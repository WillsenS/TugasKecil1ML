{
 "cells": [
  {
   "cell_type": "markdown",
   "id": "freelance-gateway",
   "metadata": {},
   "source": [
    "# Membaca dataset\n",
    "## 1. Load Dataset breast cancer\n",
    "Melakukan load data reast cancer dan membagi data menjadi 80% data training dan 20% data testing.\n",
    "Dalam dataset ini, tidak perlu dilakukan labeling data dikarenakan data sudah berasal dari library sklearn dan dapat langsung digunakan"
   ]
  },
  {
   "cell_type": "code",
   "execution_count": 1,
   "id": "objective-warren",
   "metadata": {},
   "outputs": [],
   "source": [
    "from sklearn.datasets import load_breast_cancer\n",
    "from sklearn.model_selection import train_test_split\n",
    "from sklearn.feature_extraction import DictVectorizer\n",
    "\n",
    "#Load data cancer\n",
    "data_cancer = load_breast_cancer()\n",
    "\n",
    "#Splitting cancer data to 80% train and 20% test\n",
    "X = data_cancer.data\n",
    "Y = data_cancer.target\n",
    "X_train, X_test, Y_train, Y_test = train_test_split(X, Y, test_size=0.2, train_size=0.8)"
   ]
  },
  {
   "cell_type": "markdown",
   "id": "identical-thermal",
   "metadata": {},
   "source": [
    "## 2. Load Dataset Play Tennis dan Mengolah Data\n",
    "Dikarenakan data berupa csv, maka data akan di load menggunakan library pandas. Data juga harus dilakukan labeling terlebih dahulu untuk data yang kategorikal.\n",
    "### 2.1 Load dataset ke pandas\n",
    "Melakukan load dataset play tennis menggunakan pandas"
   ]
  },
  {
   "cell_type": "code",
   "execution_count": 2,
   "id": "stone-involvement",
   "metadata": {},
   "outputs": [
    {
     "name": "stdout",
     "output_type": "stream",
     "text": [
      "    day   outlook  temp humidity    wind play\n",
      "0    D1     Sunny   Hot     High    Weak   No\n",
      "1    D2     Sunny   Hot     High  Strong   No\n",
      "2    D3  Overcast   Hot     High    Weak  Yes\n",
      "3    D4      Rain  Mild     High    Weak  Yes\n",
      "4    D5      Rain  Cool   Normal    Weak  Yes\n",
      "5    D6      Rain  Cool   Normal  Strong   No\n",
      "6    D7  Overcast  Cool   Normal  Strong  Yes\n",
      "7    D8     Sunny  Mild     High    Weak   No\n",
      "8    D9     Sunny  Cool   Normal    Weak  Yes\n",
      "9   D10      Rain  Mild   Normal    Weak  Yes\n",
      "10  D11     Sunny  Mild   Normal  Strong  Yes\n",
      "11  D12  Overcast  Mild     High  Strong  Yes\n",
      "12  D13  Overcast   Hot   Normal    Weak  Yes\n",
      "13  D14      Rain  Mild     High  Strong   No\n"
     ]
    }
   ],
   "source": [
    "import pandas as pd\n",
    "tennis_file = \"play_tennis.csv\"\n",
    "data_tennis = pd.read_csv(tennis_file)\n",
    "print(data_tennis)"
   ]
  },
  {
   "cell_type": "markdown",
   "id": "executive-airfare",
   "metadata": {},
   "source": [
    "### 2.2 Melakukan Labeling data kategorikal\n",
    "Sebelumnya, data 'day' perlu dihilangkan terlebih dahulu dikarenakan data 'day' merupakan sebuah data \"unique identifier\".\n",
    "Setelah itu, data akan dilakukan labelling dengan label sebagai berikut: <br>\n",
    "<b>Outlook: </b><br>\n",
    "overcast = 0<br>\n",
    "rain = 1<br>\n",
    "sunny = 2<br>\n",
    "<b>Temp: </b><br>\n",
    "cool = 0<br>\n",
    "hot = 1<br>\n",
    "mild = 2<br>\n",
    "<b>Humidity: </b><br>\n",
    "High = 0<br>\n",
    "Normal = 1<br>\n",
    "<b>Wind: </b><br>\n",
    "strong = 0<br>\n",
    "weak = 1<br>\n",
    "<b>Play: </b><br>\n",
    "no = 0<br>\n",
    "yes = 1<br>"
   ]
  },
  {
   "cell_type": "code",
   "execution_count": 3,
   "id": "simple-offset",
   "metadata": {},
   "outputs": [
    {
     "name": "stdout",
     "output_type": "stream",
     "text": [
      "    outlook  temp  humidity  wind  play\n",
      "0         2     1         0     1     0\n",
      "1         2     1         0     0     0\n",
      "2         0     1         0     1     1\n",
      "3         1     2         0     1     1\n",
      "4         1     0         1     1     1\n",
      "5         1     0         1     0     0\n",
      "6         0     0         1     0     1\n",
      "7         2     2         0     1     0\n",
      "8         2     0         1     1     1\n",
      "9         1     2         1     1     1\n",
      "10        2     2         1     0     1\n",
      "11        0     2         0     0     1\n",
      "12        0     1         1     1     1\n",
      "13        1     2         0     0     0\n"
     ]
    }
   ],
   "source": [
    "from sklearn.preprocessing import LabelEncoder\n",
    "from sklearn.preprocessing import OneHotEncoder\n",
    "\n",
    "tennis_file = \"play_tennis.csv\"\n",
    "data_tennis = pd.read_csv(tennis_file)\n",
    "\n",
    "#remove day\n",
    "data_tennis = data_tennis.drop(columns=['day'])\n",
    "\n",
    "#change column value to category\n",
    "data_tennis['outlook'] = data_tennis['outlook'].astype('category')\n",
    "data_tennis['temp'] = data_tennis['temp'].astype('category')\n",
    "data_tennis['humidity'] = data_tennis['humidity'].astype('category')\n",
    "data_tennis['wind'] = data_tennis['wind'].astype('category')\n",
    "data_tennis['play'] = data_tennis['play'].astype('category')\n",
    "\n",
    "#encode with label\n",
    "encoder = LabelEncoder()\n",
    "data_tennis['outlook'] = encoder.fit_transform(data_tennis.outlook)\n",
    "data_tennis['temp'] = encoder.fit_transform(data_tennis.temp)\n",
    "data_tennis['humidity'] = encoder.fit_transform(data_tennis.humidity)\n",
    "data_tennis['wind'] = encoder.fit_transform(data_tennis.wind)\n",
    "data_tennis['play'] = encoder.fit_transform(data_tennis.play)\n",
    "\n",
    "print(data_tennis)"
   ]
  },
  {
   "cell_type": "markdown",
   "id": "enormous-david",
   "metadata": {},
   "source": [
    "Karena semua data tersebut adalah ada nominal, maka diperlukan encoding lebih lanjut sehingga data berubah menjadi data nominal. Encoding menggunakan pd.get_dummies()"
   ]
  },
  {
   "cell_type": "code",
   "execution_count": 4,
   "id": "absolute-friendly",
   "metadata": {},
   "outputs": [
    {
     "name": "stdout",
     "output_type": "stream",
     "text": [
      "    play  outlook_0  outlook_1  outlook_2  temp_0  temp_1  temp_2  humidity_0  \\\n",
      "0      0          0          0          1       0       1       0           1   \n",
      "1      0          0          0          1       0       1       0           1   \n",
      "2      1          1          0          0       0       1       0           1   \n",
      "3      1          0          1          0       0       0       1           1   \n",
      "4      1          0          1          0       1       0       0           0   \n",
      "5      0          0          1          0       1       0       0           0   \n",
      "6      1          1          0          0       1       0       0           0   \n",
      "7      0          0          0          1       0       0       1           1   \n",
      "8      1          0          0          1       1       0       0           0   \n",
      "9      1          0          1          0       0       0       1           0   \n",
      "10     1          0          0          1       0       0       1           0   \n",
      "11     1          1          0          0       0       0       1           1   \n",
      "12     1          1          0          0       0       1       0           0   \n",
      "13     0          0          1          0       0       0       1           1   \n",
      "\n",
      "    humidity_1  wind_0  wind_1  \n",
      "0            0       0       1  \n",
      "1            0       1       0  \n",
      "2            0       0       1  \n",
      "3            0       0       1  \n",
      "4            1       0       1  \n",
      "5            1       1       0  \n",
      "6            1       1       0  \n",
      "7            0       0       1  \n",
      "8            1       0       1  \n",
      "9            1       0       1  \n",
      "10           1       1       0  \n",
      "11           0       1       0  \n",
      "12           1       0       1  \n",
      "13           0       1       0  \n"
     ]
    }
   ],
   "source": [
    "data_tennis = pd.get_dummies(data_tennis, columns=['outlook', 'temp', 'humidity', 'wind'], drop_first=False)\n",
    "print(data_tennis)"
   ]
  },
  {
   "cell_type": "markdown",
   "id": "earned-guarantee",
   "metadata": {},
   "source": [
    "### 2.3 Membagi menjadi data training dan data test"
   ]
  },
  {
   "cell_type": "code",
   "execution_count": 5,
   "id": "compound-circuit",
   "metadata": {},
   "outputs": [],
   "source": [
    "from sklearn.model_selection import train_test_split\n",
    "A = data_tennis.drop(['play'], axis=1)\n",
    "B = data_tennis['play']\n",
    "A_train, A_test, B_train, B_test = train_test_split(A, B, test_size=0.2)"
   ]
  },
  {
   "cell_type": "markdown",
   "id": "controlled-bernard",
   "metadata": {},
   "source": [
    "# Pembelajaran\n",
    "## 1. Decision Tree Classifier\n",
    "### 1.1 Pembelajaran Data Beast Cancer\n",
    "Berikut adalah pembelajaran data breast cancer dengan menggunakan Decision Tree Classifier dan penampilan dari tree yang terbentuk dengan export_text"
   ]
  },
  {
   "cell_type": "code",
   "execution_count": 6,
   "id": "listed-alignment",
   "metadata": {},
   "outputs": [
    {
     "name": "stdout",
     "output_type": "stream",
     "text": [
      "|--- feature_7 <= 0.05\n",
      "|   |--- feature_23 <= 957.45\n",
      "|   |   |--- feature_13 <= 44.45\n",
      "|   |   |   |--- feature_24 <= 0.18\n",
      "|   |   |   |   |--- feature_7 <= 0.05\n",
      "|   |   |   |   |   |--- feature_14 <= 0.00\n",
      "|   |   |   |   |   |   |--- feature_8 <= 0.18\n",
      "|   |   |   |   |   |   |   |--- class: 1\n",
      "|   |   |   |   |   |   |--- feature_8 >  0.18\n",
      "|   |   |   |   |   |   |   |--- class: 0\n",
      "|   |   |   |   |   |--- feature_14 >  0.00\n",
      "|   |   |   |   |   |   |--- feature_21 <= 33.27\n",
      "|   |   |   |   |   |   |   |--- class: 1\n",
      "|   |   |   |   |   |   |--- feature_21 >  33.27\n",
      "|   |   |   |   |   |   |   |--- feature_21 <= 33.56\n",
      "|   |   |   |   |   |   |   |   |--- class: 0\n",
      "|   |   |   |   |   |   |   |--- feature_21 >  33.56\n",
      "|   |   |   |   |   |   |   |   |--- class: 1\n",
      "|   |   |   |   |--- feature_7 >  0.05\n",
      "|   |   |   |   |   |--- feature_23 <= 796.25\n",
      "|   |   |   |   |   |   |--- class: 1\n",
      "|   |   |   |   |   |--- feature_23 >  796.25\n",
      "|   |   |   |   |   |   |--- class: 0\n",
      "|   |   |   |--- feature_24 >  0.18\n",
      "|   |   |   |   |--- feature_7 <= 0.03\n",
      "|   |   |   |   |   |--- class: 1\n",
      "|   |   |   |   |--- feature_7 >  0.03\n",
      "|   |   |   |   |   |--- class: 0\n",
      "|   |   |--- feature_13 >  44.45\n",
      "|   |   |   |--- feature_5 <= 0.06\n",
      "|   |   |   |   |--- class: 0\n",
      "|   |   |   |--- feature_5 >  0.06\n",
      "|   |   |   |   |--- class: 1\n",
      "|   |--- feature_23 >  957.45\n",
      "|   |   |--- feature_28 <= 0.20\n",
      "|   |   |   |--- class: 1\n",
      "|   |   |--- feature_28 >  0.20\n",
      "|   |   |   |--- class: 0\n",
      "|--- feature_7 >  0.05\n",
      "|   |--- feature_1 <= 15.45\n",
      "|   |   |--- feature_23 <= 951.85\n",
      "|   |   |   |--- class: 1\n",
      "|   |   |--- feature_23 >  951.85\n",
      "|   |   |   |--- class: 0\n",
      "|   |--- feature_1 >  15.45\n",
      "|   |   |--- feature_22 <= 95.94\n",
      "|   |   |   |--- feature_19 <= 0.00\n",
      "|   |   |   |   |--- class: 0\n",
      "|   |   |   |--- feature_19 >  0.00\n",
      "|   |   |   |   |--- class: 1\n",
      "|   |   |--- feature_22 >  95.94\n",
      "|   |   |   |--- feature_26 <= 0.21\n",
      "|   |   |   |   |--- feature_24 <= 0.12\n",
      "|   |   |   |   |   |--- class: 0\n",
      "|   |   |   |   |--- feature_24 >  0.12\n",
      "|   |   |   |   |   |--- class: 1\n",
      "|   |   |   |--- feature_26 >  0.21\n",
      "|   |   |   |   |--- class: 0\n",
      "\n"
     ]
    }
   ],
   "source": [
    "from sklearn import tree\n",
    "from sklearn.tree import export_text\n",
    "clf = tree.DecisionTreeClassifier()\n",
    "clf = clf.fit(X_train, Y_train)\n",
    "r = export_text(clf)\n",
    "print(r)"
   ]
  },
  {
   "cell_type": "markdown",
   "id": "generic-prefix",
   "metadata": {},
   "source": [
    "Berikut adalah hasil evaluasi model dengan menggunakan metriks accuracy dan F1:"
   ]
  },
  {
   "cell_type": "code",
   "execution_count": 7,
   "id": "simple-humor",
   "metadata": {},
   "outputs": [
    {
     "name": "stdout",
     "output_type": "stream",
     "text": [
      "F1 Score (binary): 0.9130434782608695\n",
      "Accuracy: 0.8947368421052632\n"
     ]
    }
   ],
   "source": [
    "from sklearn.metrics import accuracy_score, f1_score\n",
    "predictions = clf.predict(X_test)\n",
    "print(\"F1 Score (binary): \" + str(f1_score(Y_test, predictions)))\n",
    "print(\"Accuracy: \" + str(accuracy_score(Y_test, predictions)))"
   ]
  },
  {
   "cell_type": "markdown",
   "id": "under-entertainment",
   "metadata": {},
   "source": [
    "### 1.2 Pembelajaran Play Tennis\n",
    "Berikut adalah pembelajaran data Play Tennis dengan menggunakan Decision Tree Classifier dan penampilan dari tree yang terbentuk dengan export_text"
   ]
  },
  {
   "cell_type": "code",
   "execution_count": 8,
   "id": "brutal-transcription",
   "metadata": {},
   "outputs": [
    {
     "name": "stdout",
     "output_type": "stream",
     "text": [
      "|--- humidity_1 <= 0.50\n",
      "|   |--- outlook_2 <= 0.50\n",
      "|   |   |--- outlook_1 <= 0.50\n",
      "|   |   |   |--- class: 1\n",
      "|   |   |--- outlook_1 >  0.50\n",
      "|   |   |   |--- wind_0 <= 0.50\n",
      "|   |   |   |   |--- class: 1\n",
      "|   |   |   |--- wind_0 >  0.50\n",
      "|   |   |   |   |--- class: 0\n",
      "|   |--- outlook_2 >  0.50\n",
      "|   |   |--- class: 0\n",
      "|--- humidity_1 >  0.50\n",
      "|   |--- class: 1\n",
      "\n"
     ]
    }
   ],
   "source": [
    "from sklearn import tree\n",
    "from sklearn.tree import export_text\n",
    "clf = tree.DecisionTreeClassifier()\n",
    "clf = clf.fit(A_train, B_train)\n",
    "\n",
    "r = export_text(clf,feature_names = list(A.columns))\n",
    "print(r)"
   ]
  },
  {
   "cell_type": "markdown",
   "id": "revised-vehicle",
   "metadata": {},
   "source": [
    "Berikut adalah hasil evaluasi model dengan menggunakan metriks accuracy dan F1:"
   ]
  },
  {
   "cell_type": "code",
   "execution_count": 9,
   "id": "accepted-roots",
   "metadata": {},
   "outputs": [
    {
     "name": "stdout",
     "output_type": "stream",
     "text": [
      "F1 Score (binary): 0.8\n",
      "Accuracy: 0.6666666666666666\n"
     ]
    }
   ],
   "source": [
    "from sklearn.metrics import accuracy_score, f1_score\n",
    "predictions = clf.predict(A_test)\n",
    "print(\"F1 Score (binary): \" + str(f1_score(B_test, predictions)))\n",
    "print(\"Accuracy: \" + str(accuracy_score(B_test, predictions)))"
   ]
  },
  {
   "cell_type": "markdown",
   "id": "likely-cholesterol",
   "metadata": {},
   "source": [
    "## 2. Id3Estimator\n",
    "### 2.1 Pembelajaran Data Breast Cancer"
   ]
  },
  {
   "cell_type": "code",
   "execution_count": 10,
   "id": "ordered-smith",
   "metadata": {},
   "outputs": [],
   "source": [
    "import six\n",
    "import sys\n",
    "sys.modules['sklearn.externals.six'] = six\n",
    "from id3 import Id3Estimator\n",
    "\n",
    "estimator = Id3Estimator()\n",
    "estimator = estimator.fit(X_train, Y_train)"
   ]
  },
  {
   "cell_type": "markdown",
   "id": "adverse-diary",
   "metadata": {},
   "source": [
    "Berikut adalah hasil evaluasi model dengan menggunakan metriks accuracy dan F1:"
   ]
  },
  {
   "cell_type": "code",
   "execution_count": 11,
   "id": "cosmetic-history",
   "metadata": {},
   "outputs": [
    {
     "name": "stdout",
     "output_type": "stream",
     "text": [
      "F1 Score (binary): 0.9305555555555556\n",
      "Accuracy: 0.9122807017543859\n"
     ]
    }
   ],
   "source": [
    "from sklearn.metrics import accuracy_score, f1_score\n",
    "predictions = estimator.predict(X_test)\n",
    "print(\"F1 Score (binary): \" + str(f1_score(Y_test, predictions)))\n",
    "print(\"Accuracy: \" + str(accuracy_score(Y_test, predictions)))"
   ]
  },
  {
   "cell_type": "markdown",
   "id": "divine-general",
   "metadata": {},
   "source": [
    "### 2.2 Pembelajaran Data Play Tennis"
   ]
  },
  {
   "cell_type": "code",
   "execution_count": 12,
   "id": "suspended-mumbai",
   "metadata": {},
   "outputs": [],
   "source": [
    "import six\n",
    "import sys\n",
    "sys.modules['sklearn.externals.six'] = six\n",
    "from id3 import Id3Estimator\n",
    "\n",
    "estimator = Id3Estimator()\n",
    "estimator = estimator.fit(A_train, B_train)\n",
    "# r = export_text(estimator, feature_names=data_cancer['feature_names'])"
   ]
  },
  {
   "cell_type": "markdown",
   "id": "instrumental-vanilla",
   "metadata": {},
   "source": [
    "Berikut adalah hasil evaluasi model dengan menggunakan metriks accuracy dan F1:"
   ]
  },
  {
   "cell_type": "code",
   "execution_count": 13,
   "id": "consistent-bankruptcy",
   "metadata": {},
   "outputs": [
    {
     "name": "stdout",
     "output_type": "stream",
     "text": [
      "F1 Score (binary): 0.8\n",
      "Accuracy: 0.6666666666666666\n"
     ]
    }
   ],
   "source": [
    "from sklearn.metrics import accuracy_score, f1_score\n",
    "predictions = estimator.predict(A_test)\n",
    "print(\"F1 Score (binary): \" + str(f1_score(B_test, predictions)))\n",
    "print(\"Accuracy: \" + str(accuracy_score(B_test, predictions)))"
   ]
  },
  {
   "cell_type": "markdown",
   "id": "posted-paraguay",
   "metadata": {},
   "source": [
    "## 3. Kmeans\n",
    "### 3.1 Pembelajaran Data Breast Cancer"
   ]
  },
  {
   "cell_type": "code",
   "execution_count": 14,
   "id": "welcome-ensemble",
   "metadata": {},
   "outputs": [],
   "source": [
    "from sklearn.cluster import KMeans\n",
    "kmeans = KMeans().fit(X_train)"
   ]
  },
  {
   "cell_type": "markdown",
   "id": "lyric-preservation",
   "metadata": {},
   "source": [
    "Berikut adalah hasil evaluasi model dengan menggunakan metriks accuracy dan F1:"
   ]
  },
  {
   "cell_type": "code",
   "execution_count": 15,
   "id": "collected-greenhouse",
   "metadata": {},
   "outputs": [
    {
     "name": "stdout",
     "output_type": "stream",
     "text": [
      "F1 Score (macro): 0.030303030303030304\n",
      "Accuracy: 0.07017543859649122\n"
     ]
    }
   ],
   "source": [
    "from sklearn.metrics import accuracy_score, f1_score\n",
    "predictions = kmeans.predict(X_test)\n",
    "print(\"F1 Score (macro): \" + str(f1_score(Y_test, predictions, average = 'macro')))\n",
    "print(\"Accuracy: \" + str(accuracy_score(Y_test, predictions)))"
   ]
  },
  {
   "cell_type": "markdown",
   "id": "measured-irish",
   "metadata": {},
   "source": [
    "### 3.2 Pembelajaran Data Play Tennis"
   ]
  },
  {
   "cell_type": "code",
   "execution_count": 16,
   "id": "necessary-litigation",
   "metadata": {},
   "outputs": [],
   "source": [
    "from sklearn.cluster import KMeans\n",
    "kmeans = KMeans().fit(A_train)"
   ]
  },
  {
   "cell_type": "code",
   "execution_count": 17,
   "id": "prompt-berkeley",
   "metadata": {},
   "outputs": [
    {
     "name": "stdout",
     "output_type": "stream",
     "text": [
      "F1 Score (macro): 0.0\n",
      "Accuracy: 0.0\n"
     ]
    }
   ],
   "source": [
    "from sklearn.metrics import accuracy_score, f1_score\n",
    "predictions = kmeans.predict(A_test)\n",
    "print(\"F1 Score (macro): \" + str(f1_score(B_test, predictions, average = 'macro')))\n",
    "print(\"Accuracy: \" + str(accuracy_score(B_test, predictions)))"
   ]
  },
  {
   "cell_type": "markdown",
   "id": "regular-metallic",
   "metadata": {},
   "source": [
    "## 4. Logistic Regression"
   ]
  },
  {
   "cell_type": "code",
   "execution_count": 18,
   "id": "dental-freedom",
   "metadata": {},
   "outputs": [],
   "source": [
    "from sklearn.linear_model import LogisticRegression\n",
    "# clf = LogisticRegression(random_state=0).fit(X_train, Y_train)"
   ]
  },
  {
   "cell_type": "markdown",
   "id": "legendary-shaft",
   "metadata": {},
   "source": [
    "## 5. Neural Network\n",
    "### 5.1 Pembelajaran Data Breast Cancer"
   ]
  },
  {
   "cell_type": "code",
   "execution_count": 19,
   "id": "universal-passage",
   "metadata": {},
   "outputs": [],
   "source": [
    "from sklearn.neural_network import MLPClassifier\n",
    "clf = MLPClassifier(random_state=1, max_iter=300).fit(X_train, Y_train)"
   ]
  },
  {
   "cell_type": "code",
   "execution_count": 20,
   "id": "cross-exhaust",
   "metadata": {},
   "outputs": [
    {
     "name": "stdout",
     "output_type": "stream",
     "text": [
      "F1 Score (binary): 0.9645390070921985\n",
      "Accuracy: 0.956140350877193\n"
     ]
    }
   ],
   "source": [
    "from sklearn.metrics import accuracy_score, f1_score\n",
    "predictions = clf.predict(X_test)\n",
    "print(\"F1 Score (binary): \" + str(f1_score(Y_test, predictions)))\n",
    "print(\"Accuracy: \" + str(accuracy_score(Y_test, predictions)))"
   ]
  },
  {
   "cell_type": "markdown",
   "id": "eligible-dealing",
   "metadata": {},
   "source": [
    "### 5.2 Pembelajaran Data Play Tennis"
   ]
  },
  {
   "cell_type": "code",
   "execution_count": 21,
   "id": "dried-booth",
   "metadata": {},
   "outputs": [],
   "source": [
    "from sklearn.neural_network import MLPClassifier\n",
    "clf = MLPClassifier(random_state=1, max_iter=10000).fit(A_train, B_train)"
   ]
  },
  {
   "cell_type": "code",
   "execution_count": 22,
   "id": "purple-preservation",
   "metadata": {},
   "outputs": [
    {
     "name": "stdout",
     "output_type": "stream",
     "text": [
      "F1 Score (binary): 0.8\n",
      "Accuracy: 0.6666666666666666\n"
     ]
    }
   ],
   "source": [
    "from sklearn.metrics import accuracy_score, f1_score\n",
    "predictions = clf.predict(A_test)\n",
    "print(\"F1 Score (binary): \" + str(f1_score(B_test, predictions)))\n",
    "print(\"Accuracy: \" + str(accuracy_score(B_test, predictions)))"
   ]
  },
  {
   "cell_type": "markdown",
   "id": "killing-guest",
   "metadata": {},
   "source": [
    "## 6. SVM\n",
    "### 6.1 Pembelajaran Data Breast Cancer"
   ]
  },
  {
   "cell_type": "code",
   "execution_count": 23,
   "id": "proprietary-palmer",
   "metadata": {},
   "outputs": [
    {
     "data": {
      "text/plain": [
       "Pipeline(steps=[('standardscaler', StandardScaler()),\n",
       "                ('svc', SVC(gamma='auto'))])"
      ]
     },
     "execution_count": 23,
     "metadata": {},
     "output_type": "execute_result"
    }
   ],
   "source": [
    "from sklearn.pipeline import make_pipeline\n",
    "from sklearn.preprocessing import StandardScaler\n",
    "from sklearn.svm import SVC\n",
    "clf = make_pipeline(StandardScaler(), SVC(gamma='auto'))\n",
    "clf.fit(X_train, Y_train)"
   ]
  },
  {
   "cell_type": "code",
   "execution_count": 24,
   "id": "tutorial-acceptance",
   "metadata": {},
   "outputs": [
    {
     "name": "stdout",
     "output_type": "stream",
     "text": [
      "F1 Score (binary): 0.9722222222222222\n",
      "Accuracy: 0.9649122807017544\n"
     ]
    }
   ],
   "source": [
    "from sklearn.metrics import accuracy_score, f1_score\n",
    "predictions = clf.predict(X_test)\n",
    "print(\"F1 Score (binary): \" + str(f1_score(Y_test, predictions)))\n",
    "print(\"Accuracy: \" + str(accuracy_score(Y_test, predictions)))"
   ]
  },
  {
   "cell_type": "markdown",
   "id": "dutch-invalid",
   "metadata": {},
   "source": [
    "### 6.2 Pembelajaran Data Play Tennis"
   ]
  },
  {
   "cell_type": "code",
   "execution_count": 25,
   "id": "everyday-planet",
   "metadata": {},
   "outputs": [
    {
     "data": {
      "text/plain": [
       "Pipeline(steps=[('standardscaler', StandardScaler()),\n",
       "                ('svc', SVC(gamma='auto'))])"
      ]
     },
     "execution_count": 25,
     "metadata": {},
     "output_type": "execute_result"
    }
   ],
   "source": [
    "from sklearn.pipeline import make_pipeline\n",
    "from sklearn.preprocessing import StandardScaler\n",
    "from sklearn.svm import SVC\n",
    "clf = make_pipeline(StandardScaler(), SVC(gamma='auto'))\n",
    "clf.fit(A_train, B_train)"
   ]
  },
  {
   "cell_type": "code",
   "execution_count": 26,
   "id": "documented-parade",
   "metadata": {},
   "outputs": [
    {
     "name": "stdout",
     "output_type": "stream",
     "text": [
      "F1 Score (binary): 0.8\n",
      "Accuracy: 0.6666666666666666\n"
     ]
    }
   ],
   "source": [
    "from sklearn.metrics import accuracy_score, f1_score\n",
    "predictions = clf.predict(A_test)\n",
    "print(\"F1 Score (binary): \" + str(f1_score(B_test, predictions)))\n",
    "print(\"Accuracy: \" + str(accuracy_score(B_test, predictions)))"
   ]
  },
  {
   "cell_type": "code",
   "execution_count": null,
   "id": "cutting-sigma",
   "metadata": {},
   "outputs": [],
   "source": []
  }
 ],
 "metadata": {
  "kernelspec": {
   "display_name": "Python 3",
   "language": "python",
   "name": "python3"
  },
  "language_info": {
   "codemirror_mode": {
    "name": "ipython",
    "version": 3
   },
   "file_extension": ".py",
   "mimetype": "text/x-python",
   "name": "python",
   "nbconvert_exporter": "python",
   "pygments_lexer": "ipython3",
   "version": "3.9.1"
  }
 },
 "nbformat": 4,
 "nbformat_minor": 5
}
