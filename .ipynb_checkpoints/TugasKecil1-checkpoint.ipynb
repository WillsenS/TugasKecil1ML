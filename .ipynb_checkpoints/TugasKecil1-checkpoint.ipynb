{
 "cells": [
  {
   "cell_type": "markdown",
   "id": "freelance-gateway",
   "metadata": {},
   "source": [
    "# Membaca dataset\n",
    "## 1. Load Dataset breast cancer\n",
    "Melakukan load data reast cancer dan membagi data menjadi 80% data training dan 20% data testing.\n",
    "Dalam dataset ini, tidak perlu dilakukan labeling data dikarenakan data sudah berasal dari library sklearn dan dapat langsung digunakan"
   ]
  },
  {
   "cell_type": "code",
   "execution_count": 1,
   "id": "objective-warren",
   "metadata": {},
   "outputs": [],
   "source": [
    "from sklearn.datasets import load_breast_cancer\n",
    "from sklearn.model_selection import train_test_split\n",
    "from sklearn.feature_extraction import DictVectorizer\n",
    "\n",
    "#Load data cancer\n",
    "data_cancer = load_breast_cancer()\n",
    "\n",
    "#Splitting cancer data to 80% train and 20% test\n",
    "X = data_cancer.data\n",
    "Y = data_cancer.target\n",
    "X_train, X_test, Y_train, Y_test = train_test_split(X, Y, test_size=0.2, train_size=0.8)"
   ]
  },
  {
   "cell_type": "markdown",
   "id": "identical-thermal",
   "metadata": {},
   "source": [
    "## 2. Load Dataset Play Tennis dan Mengolah Data\n",
    "Dikarenakan data berupa csv, maka data akan di load menggunakan library pandas. Data juga harus dilakukan labeling terlebih dahulu untuk data yang kategorikal.\n",
    "### 2.1 Load dataset ke pandas\n",
    "Melakukan load dataset play tennis menggunakan pandas"
   ]
  },
  {
   "cell_type": "code",
   "execution_count": 2,
   "id": "stone-involvement",
   "metadata": {},
   "outputs": [
    {
     "name": "stdout",
     "output_type": "stream",
     "text": [
      "    day   outlook  temp humidity    wind play\n",
      "0    D1     Sunny   Hot     High    Weak   No\n",
      "1    D2     Sunny   Hot     High  Strong   No\n",
      "2    D3  Overcast   Hot     High    Weak  Yes\n",
      "3    D4      Rain  Mild     High    Weak  Yes\n",
      "4    D5      Rain  Cool   Normal    Weak  Yes\n",
      "5    D6      Rain  Cool   Normal  Strong   No\n",
      "6    D7  Overcast  Cool   Normal  Strong  Yes\n",
      "7    D8     Sunny  Mild     High    Weak   No\n",
      "8    D9     Sunny  Cool   Normal    Weak  Yes\n",
      "9   D10      Rain  Mild   Normal    Weak  Yes\n",
      "10  D11     Sunny  Mild   Normal  Strong  Yes\n",
      "11  D12  Overcast  Mild     High  Strong  Yes\n",
      "12  D13  Overcast   Hot   Normal    Weak  Yes\n",
      "13  D14      Rain  Mild     High  Strong   No\n"
     ]
    }
   ],
   "source": [
    "import pandas as pd\n",
    "tennis_file = \"play_tennis.csv\"\n",
    "data_tennis = pd.read_csv(tennis_file)\n",
    "print(data_tennis)"
   ]
  },
  {
   "cell_type": "markdown",
   "id": "executive-airfare",
   "metadata": {},
   "source": [
    "### 2.2 Melakukan Labeling data kategorikal\n",
    "Sebelumnya, data 'day' perlu dihilangkan terlebih dahulu dikarenakan data 'day' merupakan sebuah data \"unique identifier\".\n",
    "Setelah itu, data akan dilakukan labelling dengan label sebagai berikut: <br>\n",
    "<b>Outlook: </b><br>\n",
    "overcast = 0<br>\n",
    "rain = 1<br>\n",
    "sunny = 2<br>\n",
    "<b>Temp: </b><br>\n",
    "cool = 0<br>\n",
    "hot = 1<br>\n",
    "mild = 2<br>\n",
    "<b>Humidity: </b><br>\n",
    "High = 0<br>\n",
    "Normal = 1<br>\n",
    "<b>Wind: </b><br>\n",
    "strong = 0<br>\n",
    "weak = 1<br>\n",
    "<b>Play: </b><br>\n",
    "no = 0<br>\n",
    "yes = 1<br>"
   ]
  },
  {
   "cell_type": "code",
   "execution_count": 3,
   "id": "simple-offset",
   "metadata": {},
   "outputs": [
    {
     "name": "stdout",
     "output_type": "stream",
     "text": [
      "    outlook  temp  humidity  wind  play\n",
      "0         2     1         0     1     0\n",
      "1         2     1         0     0     0\n",
      "2         0     1         0     1     1\n",
      "3         1     2         0     1     1\n",
      "4         1     0         1     1     1\n",
      "5         1     0         1     0     0\n",
      "6         0     0         1     0     1\n",
      "7         2     2         0     1     0\n",
      "8         2     0         1     1     1\n",
      "9         1     2         1     1     1\n",
      "10        2     2         1     0     1\n",
      "11        0     2         0     0     1\n",
      "12        0     1         1     1     1\n",
      "13        1     2         0     0     0\n"
     ]
    }
   ],
   "source": [
    "from sklearn.preprocessing import LabelEncoder\n",
    "from sklearn.preprocessing import OneHotEncoder\n",
    "\n",
    "tennis_file = \"play_tennis.csv\"\n",
    "data_tennis = pd.read_csv(tennis_file)\n",
    "\n",
    "#remove day\n",
    "data_tennis = data_tennis.drop(columns=['day'])\n",
    "\n",
    "#change column value to category\n",
    "data_tennis['outlook'] = data_tennis['outlook'].astype('category')\n",
    "data_tennis['temp'] = data_tennis['temp'].astype('category')\n",
    "data_tennis['humidity'] = data_tennis['humidity'].astype('category')\n",
    "data_tennis['wind'] = data_tennis['wind'].astype('category')\n",
    "data_tennis['play'] = data_tennis['play'].astype('category')\n",
    "\n",
    "#encode with label\n",
    "encoder = LabelEncoder()\n",
    "data_tennis['outlook'] = encoder.fit_transform(data_tennis.outlook)\n",
    "data_tennis['temp'] = encoder.fit_transform(data_tennis.temp)\n",
    "data_tennis['humidity'] = encoder.fit_transform(data_tennis.humidity)\n",
    "data_tennis['wind'] = encoder.fit_transform(data_tennis.wind)\n",
    "data_tennis['play'] = encoder.fit_transform(data_tennis.play)\n",
    "\n",
    "print(data_tennis)"
   ]
  },
  {
   "cell_type": "markdown",
   "id": "earned-guarantee",
   "metadata": {},
   "source": [
    "### 2.3 Membagi menjadi data training dan data test"
   ]
  },
  {
   "cell_type": "code",
   "execution_count": 4,
   "id": "compound-circuit",
   "metadata": {},
   "outputs": [],
   "source": [
    "from sklearn.model_selection import train_test_split\n",
    "A = data_tennis.drop(['play'], axis=1)\n",
    "B = data_tennis['play']\n",
    "A_train, A_test, B_train, B_test = train_test_split(A, B, test_size=0.2)"
   ]
  },
  {
   "cell_type": "markdown",
   "id": "controlled-bernard",
   "metadata": {},
   "source": [
    "# Pembelajaran\n",
    "## 1. Decision Tree Classifier\n",
    "### 1.1 Pembelajaran Data Beast Cancer\n",
    "Berikut adalah pembelajaran data breast cancer dengan menggunakan Decision Tree Classifier dan penampilan dari tree yang terbentuk dengan export_text"
   ]
  },
  {
   "cell_type": "code",
   "execution_count": 8,
   "id": "listed-alignment",
   "metadata": {},
   "outputs": [
    {
     "name": "stdout",
     "output_type": "stream",
     "text": [
      "|--- feature_20 <= 16.80\n",
      "|   |--- feature_27 <= 0.14\n",
      "|   |   |--- feature_10 <= 1.05\n",
      "|   |   |   |--- feature_10 <= 0.64\n",
      "|   |   |   |   |--- feature_21 <= 32.78\n",
      "|   |   |   |   |   |--- class: 1\n",
      "|   |   |   |   |--- feature_21 >  32.78\n",
      "|   |   |   |   |   |--- feature_21 <= 33.56\n",
      "|   |   |   |   |   |   |--- class: 0\n",
      "|   |   |   |   |   |--- feature_21 >  33.56\n",
      "|   |   |   |   |   |   |--- class: 1\n",
      "|   |   |   |--- feature_10 >  0.64\n",
      "|   |   |   |   |--- feature_1 <= 18.63\n",
      "|   |   |   |   |   |--- class: 0\n",
      "|   |   |   |   |--- feature_1 >  18.63\n",
      "|   |   |   |   |   |--- class: 1\n",
      "|   |   |--- feature_10 >  1.05\n",
      "|   |   |   |--- class: 0\n",
      "|   |--- feature_27 >  0.14\n",
      "|   |   |--- feature_1 <= 20.30\n",
      "|   |   |   |--- feature_21 <= 27.58\n",
      "|   |   |   |   |--- feature_27 <= 0.14\n",
      "|   |   |   |   |   |--- feature_19 <= 0.00\n",
      "|   |   |   |   |   |   |--- class: 0\n",
      "|   |   |   |   |   |--- feature_19 >  0.00\n",
      "|   |   |   |   |   |   |--- class: 1\n",
      "|   |   |   |   |--- feature_27 >  0.14\n",
      "|   |   |   |   |   |--- feature_8 <= 0.24\n",
      "|   |   |   |   |   |   |--- class: 1\n",
      "|   |   |   |   |   |--- feature_8 >  0.24\n",
      "|   |   |   |   |   |   |--- class: 0\n",
      "|   |   |   |--- feature_21 >  27.58\n",
      "|   |   |   |   |--- class: 0\n",
      "|   |   |--- feature_1 >  20.30\n",
      "|   |   |   |--- class: 0\n",
      "|--- feature_20 >  16.80\n",
      "|   |--- feature_11 <= 0.49\n",
      "|   |   |--- feature_15 <= 0.02\n",
      "|   |   |   |--- class: 1\n",
      "|   |   |--- feature_15 >  0.02\n",
      "|   |   |   |--- class: 0\n",
      "|   |--- feature_11 >  0.49\n",
      "|   |   |--- feature_27 <= 0.09\n",
      "|   |   |   |--- feature_1 <= 19.83\n",
      "|   |   |   |   |--- class: 1\n",
      "|   |   |   |--- feature_1 >  19.83\n",
      "|   |   |   |   |--- class: 0\n",
      "|   |   |--- feature_27 >  0.09\n",
      "|   |   |   |--- feature_1 <= 14.95\n",
      "|   |   |   |   |--- feature_26 <= 0.41\n",
      "|   |   |   |   |   |--- class: 1\n",
      "|   |   |   |   |--- feature_26 >  0.41\n",
      "|   |   |   |   |   |--- class: 0\n",
      "|   |   |   |--- feature_1 >  14.95\n",
      "|   |   |   |   |--- class: 0\n",
      "\n"
     ]
    }
   ],
   "source": [
    "from sklearn import tree\n",
    "from sklearn.tree import export_text\n",
    "clf = tree.DecisionTreeClassifier()\n",
    "clf = clf.fit(X_train, Y_train)\n",
    "r = export_text(clf)\n",
    "print(r)"
   ]
  },
  {
   "cell_type": "markdown",
   "id": "delayed-florence",
   "metadata": {},
   "source": [
    "Berikut adalah hasil evaluasi model dengan menggunakan metriks accuracy dan F1:"
   ]
  },
  {
   "cell_type": "code",
   "execution_count": 14,
   "id": "simple-humor",
   "metadata": {},
   "outputs": [
    {
     "name": "stdout",
     "output_type": "stream",
     "text": [
      "F1 Score (binary): 0.9104477611940298\n",
      "Accuracy: 0.8947368421052632\n"
     ]
    }
   ],
   "source": [
    "from sklearn.metrics import accuracy_score, f1_score\n",
    "predictions = clf.predict(X_test)\n",
    "print(\"F1 Score (binary): \" + str(f1_score(Y_test, predictions)))\n",
    "print(\"Accuracy: \" + str(accuracy_score(Y_test, predictions)))"
   ]
  },
  {
   "cell_type": "markdown",
   "id": "advised-bryan",
   "metadata": {},
   "source": [
    "### 1.2 Pembelajaran Play Tennis\n",
    "Berikut adalah pembelajaran data Play Tennis dengan menggunakan Decision Tree Classifier dan penampilan dari tree yang terbentuk dengan export_text"
   ]
  },
  {
   "cell_type": "code",
   "execution_count": 18,
   "id": "colored-category",
   "metadata": {},
   "outputs": [
    {
     "name": "stdout",
     "output_type": "stream",
     "text": [
      "|--- outlook <= 0.50\n",
      "|   |--- class: 1\n",
      "|--- outlook >  0.50\n",
      "|   |--- humidity <= 0.50\n",
      "|   |   |--- outlook <= 1.50\n",
      "|   |   |   |--- wind <= 0.50\n",
      "|   |   |   |   |--- class: 0\n",
      "|   |   |   |--- wind >  0.50\n",
      "|   |   |   |   |--- class: 1\n",
      "|   |   |--- outlook >  1.50\n",
      "|   |   |   |--- class: 0\n",
      "|   |--- humidity >  0.50\n",
      "|   |   |--- outlook <= 1.50\n",
      "|   |   |   |--- class: 0\n",
      "|   |   |--- outlook >  1.50\n",
      "|   |   |   |--- class: 1\n",
      "\n"
     ]
    }
   ],
   "source": [
    "from sklearn import tree\n",
    "from sklearn.tree import export_text\n",
    "clf = tree.DecisionTreeClassifier()\n",
    "clf = clf.fit(A_train, B_train)\n",
    "\n",
    "r = export_text(clf,feature_names = list(A.columns))\n",
    "print(r)"
   ]
  },
  {
   "cell_type": "markdown",
   "id": "jewish-magnet",
   "metadata": {},
   "source": [
    "Berikut adalah hasil evaluasi model dengan menggunakan metriks accuracy dan F1:"
   ]
  },
  {
   "cell_type": "code",
   "execution_count": 19,
   "id": "welsh-guard",
   "metadata": {},
   "outputs": [
    {
     "name": "stdout",
     "output_type": "stream",
     "text": [
      "F1 Score (binary): 0.5\n",
      "Accuracy: 0.3333333333333333\n"
     ]
    }
   ],
   "source": [
    "from sklearn.metrics import accuracy_score, f1_score\n",
    "predictions = clf.predict(A_test)\n",
    "print(\"F1 Score (binary): \" + str(f1_score(B_test, predictions)))\n",
    "print(\"Accuracy: \" + str(accuracy_score(B_test, predictions)))"
   ]
  },
  {
   "cell_type": "markdown",
   "id": "likely-cholesterol",
   "metadata": {},
   "source": [
    "## 2. Id3Estimator\n",
    "### 2.1 Pembelajaran Data Breast Cancer"
   ]
  },
  {
   "cell_type": "code",
   "execution_count": 21,
   "id": "ordered-smith",
   "metadata": {},
   "outputs": [],
   "source": [
    "import six\n",
    "import sys\n",
    "sys.modules['sklearn.externals.six'] = six\n",
    "from id3 import Id3Estimator\n",
    "\n",
    "estimator = Id3Estimator()\n",
    "estimator = estimator.fit(X_train, Y_train)\n",
    "# r = export_text(estimator, feature_names=data_cancer['feature_names'])"
   ]
  },
  {
   "cell_type": "markdown",
   "id": "induced-momentum",
   "metadata": {},
   "source": [
    "Berikut adalah hasil evaluasi model dengan menggunakan metriks accuracy dan F1:"
   ]
  },
  {
   "cell_type": "code",
   "execution_count": 22,
   "id": "sensitive-block",
   "metadata": {},
   "outputs": [
    {
     "name": "stdout",
     "output_type": "stream",
     "text": [
      "F1 Score (binary): 0.9312977099236641\n",
      "Accuracy: 0.9210526315789473\n"
     ]
    }
   ],
   "source": [
    "from sklearn.metrics import accuracy_score, f1_score\n",
    "predictions = estimator.predict(X_test)\n",
    "print(\"F1 Score (binary): \" + str(f1_score(Y_test, predictions)))\n",
    "print(\"Accuracy: \" + str(accuracy_score(Y_test, predictions)))"
   ]
  },
  {
   "cell_type": "markdown",
   "id": "posted-paraguay",
   "metadata": {},
   "source": [
    "## 3. Kmeans"
   ]
  },
  {
   "cell_type": "code",
   "execution_count": 26,
   "id": "welcome-ensemble",
   "metadata": {},
   "outputs": [],
   "source": [
    "from sklearn.cluster import KMeans\n",
    "kmeans = KMeans().fit(X_train)"
   ]
  },
  {
   "cell_type": "markdown",
   "id": "freelance-leadership",
   "metadata": {},
   "source": [
    "Berikut adalah hasil evaluasi model dengan menggunakan metriks accuracy dan F1:"
   ]
  },
  {
   "cell_type": "code",
   "execution_count": 27,
   "id": "reported-madagascar",
   "metadata": {},
   "outputs": [
    {
     "name": "stdout",
     "output_type": "stream",
     "text": [
      "F1 Score (macro): 0.0\n",
      "Accuracy: 0.0\n"
     ]
    }
   ],
   "source": [
    "from sklearn.metrics import accuracy_score, f1_score\n",
    "predictions = kmeans.predict(X_test)\n",
    "print(\"F1 Score (macro): \" + str(f1_score(Y_test, predictions, average = 'macro')))\n",
    "print(\"Accuracy: \" + str(accuracy_score(Y_test, predictions)))"
   ]
  },
  {
   "cell_type": "markdown",
   "id": "regular-metallic",
   "metadata": {},
   "source": [
    "## 4. Logistic Regression"
   ]
  },
  {
   "cell_type": "code",
   "execution_count": 18,
   "id": "dental-freedom",
   "metadata": {},
   "outputs": [
    {
     "name": "stderr",
     "output_type": "stream",
     "text": [
      "c:\\users\\willsen\\appdata\\local\\programs\\python\\python39\\lib\\site-packages\\sklearn\\linear_model\\_logistic.py:763: ConvergenceWarning: lbfgs failed to converge (status=1):\n",
      "STOP: TOTAL NO. of ITERATIONS REACHED LIMIT.\n",
      "\n",
      "Increase the number of iterations (max_iter) or scale the data as shown in:\n",
      "    https://scikit-learn.org/stable/modules/preprocessing.html\n",
      "Please also refer to the documentation for alternative solver options:\n",
      "    https://scikit-learn.org/stable/modules/linear_model.html#logistic-regression\n",
      "  n_iter_i = _check_optimize_result(\n"
     ]
    }
   ],
   "source": [
    "from sklearn.linear_model import LogisticRegression\n",
    "# clf = LogisticRegression(random_state=0).fit(X_train, Y_train)"
   ]
  },
  {
   "cell_type": "markdown",
   "id": "legendary-shaft",
   "metadata": {},
   "source": [
    "## 5. Neural Network"
   ]
  },
  {
   "cell_type": "code",
   "execution_count": 28,
   "id": "universal-passage",
   "metadata": {},
   "outputs": [],
   "source": [
    "from sklearn.neural_network import MLPClassifier\n",
    "clf = MLPClassifier(random_state=1, max_iter=300).fit(X_train, Y_train)"
   ]
  },
  {
   "cell_type": "code",
   "execution_count": 29,
   "id": "portuguese-immunology",
   "metadata": {},
   "outputs": [
    {
     "name": "stdout",
     "output_type": "stream",
     "text": [
      "F1 Score (binary): 0.9618320610687022\n",
      "Accuracy: 0.956140350877193\n"
     ]
    }
   ],
   "source": [
    "from sklearn.metrics import accuracy_score, f1_score\n",
    "predictions = clf.predict(X_test)\n",
    "print(\"F1 Score (binary): \" + str(f1_score(Y_test, predictions)))\n",
    "print(\"Accuracy: \" + str(accuracy_score(Y_test, predictions)))"
   ]
  },
  {
   "cell_type": "markdown",
   "id": "killing-guest",
   "metadata": {},
   "source": [
    "## 6. SVM"
   ]
  },
  {
   "cell_type": "code",
   "execution_count": 30,
   "id": "proprietary-palmer",
   "metadata": {},
   "outputs": [
    {
     "data": {
      "text/plain": [
       "Pipeline(steps=[('standardscaler', StandardScaler()),\n",
       "                ('svc', SVC(gamma='auto'))])"
      ]
     },
     "execution_count": 30,
     "metadata": {},
     "output_type": "execute_result"
    }
   ],
   "source": [
    "from sklearn.pipeline import make_pipeline\n",
    "from sklearn.preprocessing import StandardScaler\n",
    "from sklearn.svm import SVC\n",
    "clf = make_pipeline(StandardScaler(), SVC(gamma='auto'))\n",
    "clf.fit(X_train, Y_train)"
   ]
  },
  {
   "cell_type": "code",
   "execution_count": 31,
   "id": "tutorial-acceptance",
   "metadata": {},
   "outputs": [
    {
     "name": "stdout",
     "output_type": "stream",
     "text": [
      "F1 Score (binary): 0.9770992366412214\n",
      "Accuracy: 0.9736842105263158\n"
     ]
    }
   ],
   "source": [
    "from sklearn.metrics import accuracy_score, f1_score\n",
    "predictions = clf.predict(X_test)\n",
    "print(\"F1 Score (binary): \" + str(f1_score(Y_test, predictions)))\n",
    "print(\"Accuracy: \" + str(accuracy_score(Y_test, predictions)))"
   ]
  },
  {
   "cell_type": "code",
   "execution_count": null,
   "id": "ready-ghana",
   "metadata": {},
   "outputs": [],
   "source": []
  }
 ],
 "metadata": {
  "kernelspec": {
   "display_name": "Python 3",
   "language": "python",
   "name": "python3"
  },
  "language_info": {
   "codemirror_mode": {
    "name": "ipython",
    "version": 3
   },
   "file_extension": ".py",
   "mimetype": "text/x-python",
   "name": "python",
   "nbconvert_exporter": "python",
   "pygments_lexer": "ipython3",
   "version": "3.9.1"
  }
 },
 "nbformat": 4,
 "nbformat_minor": 5
}
