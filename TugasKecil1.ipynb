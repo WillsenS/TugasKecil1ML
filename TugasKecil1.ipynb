{
  "nbformat": 4,
  "nbformat_minor": 5,
  "metadata": {
    "kernelspec": {
      "display_name": "Python 3",
      "language": "python",
      "name": "python3"
    },
    "language_info": {
      "codemirror_mode": {
        "name": "ipython",
        "version": 3
      },
      "file_extension": ".py",
      "mimetype": "text/x-python",
      "name": "python",
      "nbconvert_exporter": "python",
      "pygments_lexer": "ipython3",
      "version": "3.9.1"
    },
    "colab": {
      "name": "TugasKecil1.ipynb",
      "provenance": [],
      "collapsed_sections": [],
      "toc_visible": true
    }
  },
  "cells": [
    {
      "cell_type": "markdown",
      "metadata": {
        "id": "freelance-gateway"
      },
      "source": [
        "# Membaca dataset\n",
        "## 1. Load Dataset breast cancer\n",
        "Melakukan load data reast cancer dan membagi data menjadi 80% data training dan 20% data testing.\n",
        "Dalam dataset ini, tidak perlu dilakukan labeling data dikarenakan data sudah berasal dari library sklearn dan dapat langsung digunakan"
      ],
      "id": "freelance-gateway"
    },
    {
      "cell_type": "code",
      "metadata": {
        "id": "objective-warren"
      },
      "source": [
        "from sklearn.datasets import load_breast_cancer\n",
        "from sklearn.model_selection import train_test_split\n",
        "from sklearn.feature_extraction import DictVectorizer\n",
        "\n",
        "#Load data cancer\n",
        "data_cancer = load_breast_cancer()\n",
        "\n",
        "#Splitting cancer data to 80% train and 20% test\n",
        "X = data_cancer.data\n",
        "Y = data_cancer.target\n",
        "X_train, X_test, Y_train, Y_test = train_test_split(X, Y, test_size=0.2, train_size=0.8)"
      ],
      "id": "objective-warren",
      "execution_count": 3,
      "outputs": []
    },
    {
      "cell_type": "markdown",
      "metadata": {
        "id": "identical-thermal"
      },
      "source": [
        "## 2. Load Dataset Play Tennis dan Mengolah Data\n",
        "Dikarenakan data berupa csv, maka data akan di load menggunakan library pandas. Data juga harus dilakukan labeling terlebih dahulu untuk data yang kategorikal.\n",
        "### 2.1 Load dataset ke pandas\n",
        "Melakukan load dataset play tennis menggunakan pandas"
      ],
      "id": "identical-thermal"
    },
    {
      "cell_type": "code",
      "metadata": {
        "colab": {
          "base_uri": "https://localhost:8080/"
        },
        "id": "stone-involvement",
        "outputId": "a3f0bc0a-d431-4461-d56b-2c8972948864"
      },
      "source": [
        "import pandas as pd\n",
        "tennis_file = \"play_tennis.csv\"\n",
        "data_tennis = pd.read_csv(tennis_file)\n",
        "print(data_tennis)"
      ],
      "id": "stone-involvement",
      "execution_count": 4,
      "outputs": [
        {
          "output_type": "stream",
          "text": [
            "    day   outlook  temp humidity    wind play\n",
            "0    D1     Sunny   Hot     High    Weak   No\n",
            "1    D2     Sunny   Hot     High  Strong   No\n",
            "2    D3  Overcast   Hot     High    Weak  Yes\n",
            "3    D4      Rain  Mild     High    Weak  Yes\n",
            "4    D5      Rain  Cool   Normal    Weak  Yes\n",
            "5    D6      Rain  Cool   Normal  Strong   No\n",
            "6    D7  Overcast  Cool   Normal  Strong  Yes\n",
            "7    D8     Sunny  Mild     High    Weak   No\n",
            "8    D9     Sunny  Cool   Normal    Weak  Yes\n",
            "9   D10      Rain  Mild   Normal    Weak  Yes\n",
            "10  D11     Sunny  Mild   Normal  Strong  Yes\n",
            "11  D12  Overcast  Mild     High  Strong  Yes\n",
            "12  D13  Overcast   Hot   Normal    Weak  Yes\n",
            "13  D14      Rain  Mild     High  Strong   No\n"
          ],
          "name": "stdout"
        }
      ]
    },
    {
      "cell_type": "markdown",
      "metadata": {
        "id": "executive-airfare"
      },
      "source": [
        "### 2.2 Melakukan Labeling data kategorikal\n",
        "Sebelumnya, data 'day' perlu dihilangkan terlebih dahulu dikarenakan data 'day' merupakan sebuah data \"unique identifier\".\n",
        "Setelah itu, data akan dilakukan labelling dengan label sebagai berikut: <br>\n",
        "<b>Outlook: </b><br>\n",
        "overcast = 0<br>\n",
        "rain = 1<br>\n",
        "sunny = 2<br>\n",
        "<b>Temp: </b><br>\n",
        "cool = 0<br>\n",
        "hot = 1<br>\n",
        "mild = 2<br>\n",
        "<b>Humidity: </b><br>\n",
        "High = 0<br>\n",
        "Normal = 1<br>\n",
        "<b>Wind: </b><br>\n",
        "strong = 0<br>\n",
        "weak = 1<br>\n",
        "<b>Play: </b><br>\n",
        "no = 0<br>\n",
        "yes = 1<br>"
      ],
      "id": "executive-airfare"
    },
    {
      "cell_type": "code",
      "metadata": {
        "colab": {
          "base_uri": "https://localhost:8080/"
        },
        "id": "simple-offset",
        "outputId": "1e4118e3-6eb7-45eb-82d9-8ea433bc28f7"
      },
      "source": [
        "from sklearn.preprocessing import LabelEncoder\n",
        "from sklearn.preprocessing import OneHotEncoder\n",
        "\n",
        "tennis_file = \"play_tennis.csv\"\n",
        "data_tennis = pd.read_csv(tennis_file)\n",
        "\n",
        "#remove day\n",
        "data_tennis = data_tennis.drop(columns=['day'])\n",
        "\n",
        "#change column value to category\n",
        "data_tennis['outlook'] = data_tennis['outlook'].astype('category')\n",
        "data_tennis['temp'] = data_tennis['temp'].astype('category')\n",
        "data_tennis['humidity'] = data_tennis['humidity'].astype('category')\n",
        "data_tennis['wind'] = data_tennis['wind'].astype('category')\n",
        "data_tennis['play'] = data_tennis['play'].astype('category')\n",
        "\n",
        "#encode with label\n",
        "encoder = LabelEncoder()\n",
        "data_tennis['outlook'] = encoder.fit_transform(data_tennis.outlook)\n",
        "data_tennis['temp'] = encoder.fit_transform(data_tennis.temp)\n",
        "data_tennis['humidity'] = encoder.fit_transform(data_tennis.humidity)\n",
        "data_tennis['wind'] = encoder.fit_transform(data_tennis.wind)\n",
        "data_tennis['play'] = encoder.fit_transform(data_tennis.play)\n",
        "\n",
        "print(data_tennis)"
      ],
      "id": "simple-offset",
      "execution_count": 5,
      "outputs": [
        {
          "output_type": "stream",
          "text": [
            "    outlook  temp  humidity  wind  play\n",
            "0         2     1         0     1     0\n",
            "1         2     1         0     0     0\n",
            "2         0     1         0     1     1\n",
            "3         1     2         0     1     1\n",
            "4         1     0         1     1     1\n",
            "5         1     0         1     0     0\n",
            "6         0     0         1     0     1\n",
            "7         2     2         0     1     0\n",
            "8         2     0         1     1     1\n",
            "9         1     2         1     1     1\n",
            "10        2     2         1     0     1\n",
            "11        0     2         0     0     1\n",
            "12        0     1         1     1     1\n",
            "13        1     2         0     0     0\n"
          ],
          "name": "stdout"
        }
      ]
    },
    {
      "cell_type": "markdown",
      "metadata": {
        "id": "enormous-david"
      },
      "source": [
        "Karena semua data tersebut adalah ada nominal, maka diperlukan encoding lebih lanjut sehingga data berubah menjadi data nominal. Encoding menggunakan pd.get_dummies()"
      ],
      "id": "enormous-david"
    },
    {
      "cell_type": "code",
      "metadata": {
        "colab": {
          "base_uri": "https://localhost:8080/"
        },
        "id": "absolute-friendly",
        "outputId": "e79b8d08-3665-4c1d-c252-6afa97058a04"
      },
      "source": [
        "data_tennis = pd.get_dummies(data_tennis, columns=['outlook', 'temp', 'humidity', 'wind'], drop_first=False)\n",
        "print(data_tennis)"
      ],
      "id": "absolute-friendly",
      "execution_count": 6,
      "outputs": [
        {
          "output_type": "stream",
          "text": [
            "    play  outlook_0  outlook_1  ...  humidity_1  wind_0  wind_1\n",
            "0      0          0          0  ...           0       0       1\n",
            "1      0          0          0  ...           0       1       0\n",
            "2      1          1          0  ...           0       0       1\n",
            "3      1          0          1  ...           0       0       1\n",
            "4      1          0          1  ...           1       0       1\n",
            "5      0          0          1  ...           1       1       0\n",
            "6      1          1          0  ...           1       1       0\n",
            "7      0          0          0  ...           0       0       1\n",
            "8      1          0          0  ...           1       0       1\n",
            "9      1          0          1  ...           1       0       1\n",
            "10     1          0          0  ...           1       1       0\n",
            "11     1          1          0  ...           0       1       0\n",
            "12     1          1          0  ...           1       0       1\n",
            "13     0          0          1  ...           0       1       0\n",
            "\n",
            "[14 rows x 11 columns]\n"
          ],
          "name": "stdout"
        }
      ]
    },
    {
      "cell_type": "markdown",
      "metadata": {
        "id": "earned-guarantee"
      },
      "source": [
        "### 2.3 Membagi menjadi data training dan data test"
      ],
      "id": "earned-guarantee"
    },
    {
      "cell_type": "code",
      "metadata": {
        "id": "compound-circuit"
      },
      "source": [
        "from sklearn.model_selection import train_test_split\n",
        "A = data_tennis.drop(['play'], axis=1)\n",
        "B = data_tennis['play']\n",
        "A_train, A_test, B_train, B_test = train_test_split(A, B, test_size=0.2)"
      ],
      "id": "compound-circuit",
      "execution_count": 7,
      "outputs": []
    },
    {
      "cell_type": "markdown",
      "metadata": {
        "id": "controlled-bernard"
      },
      "source": [
        "# Pembelajaran\n",
        "## 1. Decision Tree Classifier\n",
        "### 1.1 Pembelajaran Data Beast Cancer\n",
        "Berikut adalah pembelajaran data breast cancer dengan menggunakan Decision Tree Classifier dan penampilan dari tree yang terbentuk dengan export_text"
      ],
      "id": "controlled-bernard"
    },
    {
      "cell_type": "code",
      "metadata": {
        "colab": {
          "base_uri": "https://localhost:8080/"
        },
        "id": "listed-alignment",
        "outputId": "f28b0f54-c64c-4fa5-a6c2-a3265f0fbcb0"
      },
      "source": [
        "from sklearn import tree\n",
        "from sklearn.tree import export_text\n",
        "clf = tree.DecisionTreeClassifier()\n",
        "clf = clf.fit(X_train, Y_train)\n",
        "r = export_text(clf)\n",
        "print(r)"
      ],
      "id": "listed-alignment",
      "execution_count": 8,
      "outputs": [
        {
          "output_type": "stream",
          "text": [
            "|--- feature_23 <= 865.70\n",
            "|   |--- feature_27 <= 0.16\n",
            "|   |   |--- feature_27 <= 0.12\n",
            "|   |   |   |--- feature_28 <= 0.16\n",
            "|   |   |   |   |--- class: 0\n",
            "|   |   |   |--- feature_28 >  0.16\n",
            "|   |   |   |   |--- feature_14 <= 0.00\n",
            "|   |   |   |   |   |--- feature_20 <= 15.64\n",
            "|   |   |   |   |   |   |--- class: 1\n",
            "|   |   |   |   |   |--- feature_20 >  15.64\n",
            "|   |   |   |   |   |   |--- class: 0\n",
            "|   |   |   |   |--- feature_14 >  0.00\n",
            "|   |   |   |   |   |--- feature_21 <= 33.35\n",
            "|   |   |   |   |   |   |--- class: 1\n",
            "|   |   |   |   |   |--- feature_21 >  33.35\n",
            "|   |   |   |   |   |   |--- feature_21 <= 33.56\n",
            "|   |   |   |   |   |   |   |--- class: 0\n",
            "|   |   |   |   |   |   |--- feature_21 >  33.56\n",
            "|   |   |   |   |   |   |   |--- class: 1\n",
            "|   |   |--- feature_27 >  0.12\n",
            "|   |   |   |--- feature_21 <= 32.56\n",
            "|   |   |   |   |--- feature_23 <= 808.55\n",
            "|   |   |   |   |   |--- class: 1\n",
            "|   |   |   |   |--- feature_23 >  808.55\n",
            "|   |   |   |   |   |--- feature_18 <= 0.02\n",
            "|   |   |   |   |   |   |--- feature_1 <= 15.93\n",
            "|   |   |   |   |   |   |   |--- class: 0\n",
            "|   |   |   |   |   |   |--- feature_1 >  15.93\n",
            "|   |   |   |   |   |   |   |--- class: 1\n",
            "|   |   |   |   |   |--- feature_18 >  0.02\n",
            "|   |   |   |   |   |   |--- class: 0\n",
            "|   |   |   |--- feature_21 >  32.56\n",
            "|   |   |   |   |--- class: 0\n",
            "|   |--- feature_27 >  0.16\n",
            "|   |   |--- feature_21 <= 23.47\n",
            "|   |   |   |--- feature_25 <= 0.42\n",
            "|   |   |   |   |--- class: 0\n",
            "|   |   |   |--- feature_25 >  0.42\n",
            "|   |   |   |   |--- class: 1\n",
            "|   |   |--- feature_21 >  23.47\n",
            "|   |   |   |--- class: 0\n",
            "|--- feature_23 >  865.70\n",
            "|   |--- feature_21 <= 18.44\n",
            "|   |   |--- feature_10 <= 0.62\n",
            "|   |   |   |--- class: 1\n",
            "|   |   |--- feature_10 >  0.62\n",
            "|   |   |   |--- class: 0\n",
            "|   |--- feature_21 >  18.44\n",
            "|   |   |--- feature_24 <= 0.09\n",
            "|   |   |   |--- class: 1\n",
            "|   |   |--- feature_24 >  0.09\n",
            "|   |   |   |--- feature_26 <= 0.19\n",
            "|   |   |   |   |--- feature_17 <= 0.01\n",
            "|   |   |   |   |   |--- class: 0\n",
            "|   |   |   |   |--- feature_17 >  0.01\n",
            "|   |   |   |   |   |--- class: 1\n",
            "|   |   |   |--- feature_26 >  0.19\n",
            "|   |   |   |   |--- class: 0\n",
            "\n"
          ],
          "name": "stdout"
        }
      ]
    },
    {
      "cell_type": "markdown",
      "metadata": {
        "id": "generic-prefix"
      },
      "source": [
        "Berikut adalah hasil evaluasi model dengan menggunakan metriks accuracy dan F1:"
      ],
      "id": "generic-prefix"
    },
    {
      "cell_type": "code",
      "metadata": {
        "colab": {
          "base_uri": "https://localhost:8080/"
        },
        "id": "simple-humor",
        "outputId": "b154f534-0e1e-4f1d-f0ca-abc482ba0c94"
      },
      "source": [
        "from sklearn.metrics import accuracy_score, f1_score\n",
        "predictions = clf.predict(X_test)\n",
        "print(\"F1 Score (binary): \" + str(f1_score(Y_test, predictions)))\n",
        "print(\"Accuracy: \" + str(accuracy_score(Y_test, predictions)))"
      ],
      "id": "simple-humor",
      "execution_count": 9,
      "outputs": [
        {
          "output_type": "stream",
          "text": [
            "F1 Score (binary): 0.9370629370629372\n",
            "Accuracy: 0.9210526315789473\n"
          ],
          "name": "stdout"
        }
      ]
    },
    {
      "cell_type": "markdown",
      "metadata": {
        "id": "under-entertainment"
      },
      "source": [
        "### 1.2 Pembelajaran Play Tennis\n",
        "Berikut adalah pembelajaran data Play Tennis dengan menggunakan Decision Tree Classifier dan penampilan dari tree yang terbentuk dengan export_text"
      ],
      "id": "under-entertainment"
    },
    {
      "cell_type": "code",
      "metadata": {
        "colab": {
          "base_uri": "https://localhost:8080/"
        },
        "id": "brutal-transcription",
        "outputId": "3cd8b58d-bb6b-41ae-c18b-6ad8cac20215"
      },
      "source": [
        "from sklearn import tree\n",
        "from sklearn.tree import export_text\n",
        "clf = tree.DecisionTreeClassifier()\n",
        "clf = clf.fit(A_train, B_train)\n",
        "\n",
        "r = export_text(clf,feature_names = list(A.columns))\n",
        "print(r)"
      ],
      "id": "brutal-transcription",
      "execution_count": 10,
      "outputs": [
        {
          "output_type": "stream",
          "text": [
            "|--- outlook_2 <= 0.50\n",
            "|   |--- wind_1 <= 0.50\n",
            "|   |   |--- outlook_1 <= 0.50\n",
            "|   |   |   |--- class: 1\n",
            "|   |   |--- outlook_1 >  0.50\n",
            "|   |   |   |--- class: 0\n",
            "|   |--- wind_1 >  0.50\n",
            "|   |   |--- class: 1\n",
            "|--- outlook_2 >  0.50\n",
            "|   |--- humidity_1 <= 0.50\n",
            "|   |   |--- class: 0\n",
            "|   |--- humidity_1 >  0.50\n",
            "|   |   |--- class: 1\n",
            "\n"
          ],
          "name": "stdout"
        }
      ]
    },
    {
      "cell_type": "markdown",
      "metadata": {
        "id": "revised-vehicle"
      },
      "source": [
        "Berikut adalah hasil evaluasi model dengan menggunakan metriks accuracy dan F1:"
      ],
      "id": "revised-vehicle"
    },
    {
      "cell_type": "code",
      "metadata": {
        "colab": {
          "base_uri": "https://localhost:8080/"
        },
        "id": "accepted-roots",
        "outputId": "5987598e-1f56-443a-f45c-25316dec7bc4"
      },
      "source": [
        "from sklearn.metrics import accuracy_score, f1_score\n",
        "predictions = clf.predict(A_test)\n",
        "print(\"F1 Score (binary): \" + str(f1_score(B_test, predictions)))\n",
        "print(\"Accuracy: \" + str(accuracy_score(B_test, predictions)))"
      ],
      "id": "accepted-roots",
      "execution_count": 11,
      "outputs": [
        {
          "output_type": "stream",
          "text": [
            "F1 Score (binary): 1.0\n",
            "Accuracy: 1.0\n"
          ],
          "name": "stdout"
        }
      ]
    },
    {
      "cell_type": "markdown",
      "metadata": {
        "id": "likely-cholesterol"
      },
      "source": [
        "## 2. Id3Estimator\n",
        "### 2.1 Pembelajaran Data Breast Cancer"
      ],
      "id": "likely-cholesterol"
    },
    {
      "cell_type": "code",
      "metadata": {
        "colab": {
          "base_uri": "https://localhost:8080/"
        },
        "id": "ordered-smith",
        "outputId": "6ea1fa37-3347-498d-dc8f-8f826eb56ea6"
      },
      "source": [
        "import six\n",
        "import sys\n",
        "sys.modules['sklearn.externals.six'] = six\n",
        "!pip install decision-tree-id3\n",
        "from id3 import Id3Estimator\n",
        "\n",
        "estimator = Id3Estimator()\n",
        "estimator = estimator.fit(X_train, Y_train)"
      ],
      "id": "ordered-smith",
      "execution_count": 15,
      "outputs": [
        {
          "output_type": "stream",
          "text": [
            "Requirement already satisfied: decision-tree-id3 in /usr/local/lib/python3.6/dist-packages (0.1.2)\n",
            "Requirement already satisfied: scikit-learn>=0.17 in /usr/local/lib/python3.6/dist-packages (from decision-tree-id3) (0.22.2.post1)\n",
            "Requirement already satisfied: numpy>=1.6.1 in /usr/local/lib/python3.6/dist-packages (from decision-tree-id3) (1.19.5)\n",
            "Requirement already satisfied: nose>=1.1.2 in /usr/local/lib/python3.6/dist-packages (from decision-tree-id3) (1.3.7)\n",
            "Requirement already satisfied: scipy>=0.17.0 in /usr/local/lib/python3.6/dist-packages (from scikit-learn>=0.17->decision-tree-id3) (1.4.1)\n",
            "Requirement already satisfied: joblib>=0.11 in /usr/local/lib/python3.6/dist-packages (from scikit-learn>=0.17->decision-tree-id3) (1.0.0)\n"
          ],
          "name": "stdout"
        }
      ]
    },
    {
      "cell_type": "markdown",
      "metadata": {
        "id": "adverse-diary"
      },
      "source": [
        "Berikut adalah hasil evaluasi model dengan menggunakan metriks accuracy dan F1:"
      ],
      "id": "adverse-diary"
    },
    {
      "cell_type": "code",
      "metadata": {
        "colab": {
          "base_uri": "https://localhost:8080/"
        },
        "id": "cosmetic-history",
        "outputId": "5ddccb83-0b56-40bf-ed9e-cf614747d424"
      },
      "source": [
        "from sklearn.metrics import accuracy_score, f1_score\n",
        "predictions = estimator.predict(X_test)\n",
        "print(\"F1 Score (binary): \" + str(f1_score(Y_test, predictions)))\n",
        "print(\"Accuracy: \" + str(accuracy_score(Y_test, predictions)))"
      ],
      "id": "cosmetic-history",
      "execution_count": 16,
      "outputs": [
        {
          "output_type": "stream",
          "text": [
            "F1 Score (binary): 0.9496402877697842\n",
            "Accuracy: 0.9385964912280702\n"
          ],
          "name": "stdout"
        }
      ]
    },
    {
      "cell_type": "markdown",
      "metadata": {
        "id": "divine-general"
      },
      "source": [
        "### 2.2 Pembelajaran Data Play Tennis"
      ],
      "id": "divine-general"
    },
    {
      "cell_type": "code",
      "metadata": {
        "id": "suspended-mumbai"
      },
      "source": [
        "import six\n",
        "import sys\n",
        "sys.modules['sklearn.externals.six'] = six\n",
        "from id3 import Id3Estimator\n",
        "\n",
        "estimator = Id3Estimator()\n",
        "estimator = estimator.fit(A_train, B_train)\n",
        "# r = export_text(estimator, feature_names=data_cancer['feature_names'])"
      ],
      "id": "suspended-mumbai",
      "execution_count": 17,
      "outputs": []
    },
    {
      "cell_type": "markdown",
      "metadata": {
        "id": "instrumental-vanilla"
      },
      "source": [
        "Berikut adalah hasil evaluasi model dengan menggunakan metriks accuracy dan F1:"
      ],
      "id": "instrumental-vanilla"
    },
    {
      "cell_type": "code",
      "metadata": {
        "colab": {
          "base_uri": "https://localhost:8080/"
        },
        "id": "consistent-bankruptcy",
        "outputId": "c7532237-4c12-4846-8d74-d1dad7ec694d"
      },
      "source": [
        "from sklearn.metrics import accuracy_score, f1_score\n",
        "predictions = estimator.predict(A_test)\n",
        "print(\"F1 Score (binary): \" + str(f1_score(B_test, predictions)))\n",
        "print(\"Accuracy: \" + str(accuracy_score(B_test, predictions)))"
      ],
      "id": "consistent-bankruptcy",
      "execution_count": 18,
      "outputs": [
        {
          "output_type": "stream",
          "text": [
            "F1 Score (binary): 0.8\n",
            "Accuracy: 0.6666666666666666\n"
          ],
          "name": "stdout"
        }
      ]
    },
    {
      "cell_type": "markdown",
      "metadata": {
        "id": "posted-paraguay"
      },
      "source": [
        "## 3. Kmeans\n",
        "### 3.1 Pembelajaran Data Breast Cancer"
      ],
      "id": "posted-paraguay"
    },
    {
      "cell_type": "code",
      "metadata": {
        "id": "welcome-ensemble"
      },
      "source": [
        "from sklearn.cluster import KMeans\n",
        "kmeans = KMeans(n_clusters=2).fit(X_train)  "
      ],
      "id": "welcome-ensemble",
      "execution_count": 56,
      "outputs": []
    },
    {
      "cell_type": "code",
      "metadata": {
        "id": "PHXU94OePpDc"
      },
      "source": [
        "# import matplotlib.pyplot as plt\r\n",
        "# %matplotlib inline\r\n",
        "# plt.scatter(X_train[:,0],X_train[:,1], c=kmeans.labels_, cmap='rainbow')"
      ],
      "id": "PHXU94OePpDc",
      "execution_count": 59,
      "outputs": []
    },
    {
      "cell_type": "markdown",
      "metadata": {
        "id": "lyric-preservation"
      },
      "source": [
        "Berikut adalah hasil evaluasi model dengan menggunakan metriks accuracy dan F1:"
      ],
      "id": "lyric-preservation"
    },
    {
      "cell_type": "code",
      "metadata": {
        "colab": {
          "base_uri": "https://localhost:8080/"
        },
        "id": "collected-greenhouse",
        "outputId": "b249dff3-5048-4741-acfb-6d94b17717df"
      },
      "source": [
        "from sklearn.metrics import accuracy_score, f1_score\n",
        "predictions = kmeans.predict(X_test)\n",
        "print(\"F1 Score (macro): \" + str(f1_score(Y_test, predictions, average = 'macro')))\n",
        "print(\"Accuracy: \" + str(accuracy_score(Y_test, predictions)))"
      ],
      "id": "collected-greenhouse",
      "execution_count": 58,
      "outputs": [
        {
          "output_type": "stream",
          "text": [
            "F1 Score (macro): 0.7867564534231201\n",
            "Accuracy: 0.8245614035087719\n"
          ],
          "name": "stdout"
        }
      ]
    },
    {
      "cell_type": "markdown",
      "metadata": {
        "id": "measured-irish"
      },
      "source": [
        "### 3.2 Pembelajaran Data Play Tennis"
      ],
      "id": "measured-irish"
    },
    {
      "cell_type": "code",
      "metadata": {
        "id": "necessary-litigation"
      },
      "source": [
        "from sklearn.cluster import KMeans\n",
        "kmeans = KMeans(n_clusters=3).fit(A_train)"
      ],
      "id": "necessary-litigation",
      "execution_count": 80,
      "outputs": []
    },
    {
      "cell_type": "code",
      "metadata": {
        "id": "akqw72W1TR_d"
      },
      "source": [
        "# import matplotlib.pyplot as plt\r\n",
        "# %matplotlib inline\r\n",
        "# plt.scatter(iloc.A_train[:,0],iloc.A_train[:,1], c=kmeans.labels_, cmap='rainbow')"
      ],
      "id": "akqw72W1TR_d",
      "execution_count": 65,
      "outputs": []
    },
    {
      "cell_type": "code",
      "metadata": {
        "colab": {
          "base_uri": "https://localhost:8080/"
        },
        "id": "prompt-berkeley",
        "outputId": "4be1ea27-0bb4-4d27-ce47-ba8cc56b4f7c"
      },
      "source": [
        "from sklearn.metrics import accuracy_score, f1_score\n",
        "predictions = kmeans.predict(A_test)\n",
        "print(\"F1 Score (macro): \" + str(f1_score(B_test, predictions, average = 'macro')))\n",
        "print(\"Accuracy: \" + str(accuracy_score(B_test, predictions)))"
      ],
      "id": "prompt-berkeley",
      "execution_count": 81,
      "outputs": [
        {
          "output_type": "stream",
          "text": [
            "F1 Score (macro): 0.6666666666666666\n",
            "Accuracy: 0.6666666666666666\n"
          ],
          "name": "stdout"
        }
      ]
    },
    {
      "cell_type": "markdown",
      "metadata": {
        "id": "regular-metallic"
      },
      "source": [
        "## 4. Logistic Regression\r\n",
        "### 4.1 Pembelajaran Data Breast Cancer\r\n",
        "\r\n"
      ],
      "id": "regular-metallic"
    },
    {
      "cell_type": "code",
      "metadata": {
        "colab": {
          "base_uri": "https://localhost:8080/"
        },
        "id": "dental-freedom",
        "outputId": "5c018674-0fcb-4388-fed2-12860ffbc89a"
      },
      "source": [
        "from sklearn.linear_model import LogisticRegression\n",
        "clf = LogisticRegression(random_state=0).fit(X_train, Y_train) # solver = 'lbfgs"
      ],
      "id": "dental-freedom",
      "execution_count": 101,
      "outputs": [
        {
          "output_type": "stream",
          "text": [
            "/usr/local/lib/python3.6/dist-packages/sklearn/linear_model/_logistic.py:940: ConvergenceWarning: lbfgs failed to converge (status=1):\n",
            "STOP: TOTAL NO. of ITERATIONS REACHED LIMIT.\n",
            "\n",
            "Increase the number of iterations (max_iter) or scale the data as shown in:\n",
            "    https://scikit-learn.org/stable/modules/preprocessing.html\n",
            "Please also refer to the documentation for alternative solver options:\n",
            "    https://scikit-learn.org/stable/modules/linear_model.html#logistic-regression\n",
            "  extra_warning_msg=_LOGISTIC_SOLVER_CONVERGENCE_MSG)\n"
          ],
          "name": "stderr"
        }
      ]
    },
    {
      "cell_type": "code",
      "metadata": {
        "colab": {
          "base_uri": "https://localhost:8080/"
        },
        "id": "mIyBamlQzzuX",
        "outputId": "7b2c962e-81a8-4e3a-a7ec-2e68b74df4b1"
      },
      "source": [
        "predictions = clf.predict(X_test)\r\n",
        "print(\"F1 Score (macro): \" + str(f1_score(Y_test, predictions, average = 'macro')))\r\n",
        "print(\"Accuracy: \" + str(accuracy_score(Y_test, predictions)))"
      ],
      "id": "mIyBamlQzzuX",
      "execution_count": 102,
      "outputs": [
        {
          "output_type": "stream",
          "text": [
            "F1 Score (macro): 0.9246031746031745\n",
            "Accuracy: 0.9298245614035088\n"
          ],
          "name": "stdout"
        }
      ]
    },
    {
      "cell_type": "markdown",
      "metadata": {
        "id": "ucyqoED00MlI"
      },
      "source": [
        "### 4.2 Pembelajaran Data Play Tennis"
      ],
      "id": "ucyqoED00MlI"
    },
    {
      "cell_type": "code",
      "metadata": {
        "id": "bAeFV45g0Pnz"
      },
      "source": [
        "clf = LogisticRegression(random_state=0, solver='liblinear').fit(A_train, B_train)"
      ],
      "id": "bAeFV45g0Pnz",
      "execution_count": 105,
      "outputs": []
    },
    {
      "cell_type": "code",
      "metadata": {
        "colab": {
          "base_uri": "https://localhost:8080/"
        },
        "id": "Lui6NN_i0k9Q",
        "outputId": "eade0c13-8aeb-418d-a5f3-8729d828a537"
      },
      "source": [
        "predictions = clf.predict(A_test)\r\n",
        "print(\"F1 Score (macro): \" + str(f1_score(B_test, predictions, average = 'macro')))\r\n",
        "print(\"Accuracy: \" + str(accuracy_score(B_test, predictions)))"
      ],
      "id": "Lui6NN_i0k9Q",
      "execution_count": 106,
      "outputs": [
        {
          "output_type": "stream",
          "text": [
            "F1 Score (macro): 0.4\n",
            "Accuracy: 0.6666666666666666\n"
          ],
          "name": "stdout"
        }
      ]
    },
    {
      "cell_type": "markdown",
      "metadata": {
        "id": "legendary-shaft"
      },
      "source": [
        "## 5. Neural Network\n",
        "### 5.1 Pembelajaran Data Breast Cancer"
      ],
      "id": "legendary-shaft"
    },
    {
      "cell_type": "code",
      "metadata": {
        "id": "universal-passage"
      },
      "source": [
        "from sklearn.neural_network import MLPClassifier\n",
        "clf = MLPClassifier(random_state=1, max_iter=300).fit(X_train, Y_train)"
      ],
      "id": "universal-passage",
      "execution_count": 24,
      "outputs": []
    },
    {
      "cell_type": "code",
      "metadata": {
        "colab": {
          "base_uri": "https://localhost:8080/"
        },
        "id": "cross-exhaust",
        "outputId": "00ef403c-dc32-4fea-837b-06c85aa70ddd"
      },
      "source": [
        "from sklearn.metrics import accuracy_score, f1_score\n",
        "predictions = clf.predict(X_test)\n",
        "print(\"F1 Score (binary): \" + str(f1_score(Y_test, predictions)))\n",
        "print(\"Accuracy: \" + str(accuracy_score(Y_test, predictions)))"
      ],
      "id": "cross-exhaust",
      "execution_count": 25,
      "outputs": [
        {
          "output_type": "stream",
          "text": [
            "F1 Score (binary): 0.9178082191780823\n",
            "Accuracy: 0.8947368421052632\n"
          ],
          "name": "stdout"
        }
      ]
    },
    {
      "cell_type": "markdown",
      "metadata": {
        "id": "eligible-dealing"
      },
      "source": [
        "### 5.2 Pembelajaran Data Play Tennis"
      ],
      "id": "eligible-dealing"
    },
    {
      "cell_type": "code",
      "metadata": {
        "id": "dried-booth"
      },
      "source": [
        "from sklearn.neural_network import MLPClassifier\n",
        "clf = MLPClassifier(random_state=1, max_iter=10000).fit(A_train, B_train)"
      ],
      "id": "dried-booth",
      "execution_count": 26,
      "outputs": []
    },
    {
      "cell_type": "code",
      "metadata": {
        "colab": {
          "base_uri": "https://localhost:8080/"
        },
        "id": "purple-preservation",
        "outputId": "2d43e667-f8d8-4a27-ba77-29c4545399df"
      },
      "source": [
        "from sklearn.metrics import accuracy_score, f1_score\n",
        "predictions = clf.predict(A_test)\n",
        "print(\"F1 Score (binary): \" + str(f1_score(B_test, predictions)))\n",
        "print(\"Accuracy: \" + str(accuracy_score(B_test, predictions)))"
      ],
      "id": "purple-preservation",
      "execution_count": 27,
      "outputs": [
        {
          "output_type": "stream",
          "text": [
            "F1 Score (binary): 0.8\n",
            "Accuracy: 0.6666666666666666\n"
          ],
          "name": "stdout"
        }
      ]
    },
    {
      "cell_type": "markdown",
      "metadata": {
        "id": "killing-guest"
      },
      "source": [
        "## 6. SVM\n",
        "### 6.1 Pembelajaran Data Breast Cancer"
      ],
      "id": "killing-guest"
    },
    {
      "cell_type": "code",
      "metadata": {
        "colab": {
          "base_uri": "https://localhost:8080/"
        },
        "id": "proprietary-palmer",
        "outputId": "eb626db6-ace0-41f9-d4c8-2169512cbc97"
      },
      "source": [
        "from sklearn.pipeline import make_pipeline\n",
        "from sklearn.preprocessing import StandardScaler\n",
        "from sklearn.svm import SVC\n",
        "clf = make_pipeline(StandardScaler(), SVC(gamma='auto'))\n",
        "clf.fit(X_train, Y_train)"
      ],
      "id": "proprietary-palmer",
      "execution_count": 28,
      "outputs": [
        {
          "output_type": "execute_result",
          "data": {
            "text/plain": [
              "Pipeline(memory=None,\n",
              "         steps=[('standardscaler',\n",
              "                 StandardScaler(copy=True, with_mean=True, with_std=True)),\n",
              "                ('svc',\n",
              "                 SVC(C=1.0, break_ties=False, cache_size=200, class_weight=None,\n",
              "                     coef0=0.0, decision_function_shape='ovr', degree=3,\n",
              "                     gamma='auto', kernel='rbf', max_iter=-1, probability=False,\n",
              "                     random_state=None, shrinking=True, tol=0.001,\n",
              "                     verbose=False))],\n",
              "         verbose=False)"
            ]
          },
          "metadata": {
            "tags": []
          },
          "execution_count": 28
        }
      ]
    },
    {
      "cell_type": "code",
      "metadata": {
        "colab": {
          "base_uri": "https://localhost:8080/"
        },
        "id": "tutorial-acceptance",
        "outputId": "7f39554e-2354-484d-e4f5-005bb2fc525d"
      },
      "source": [
        "from sklearn.metrics import accuracy_score, f1_score\n",
        "predictions = clf.predict(X_test)\n",
        "print(\"F1 Score (binary): \" + str(f1_score(Y_test, predictions)))\n",
        "print(\"Accuracy: \" + str(accuracy_score(Y_test, predictions)))"
      ],
      "id": "tutorial-acceptance",
      "execution_count": 29,
      "outputs": [
        {
          "output_type": "stream",
          "text": [
            "F1 Score (binary): 0.9859154929577465\n",
            "Accuracy: 0.9824561403508771\n"
          ],
          "name": "stdout"
        }
      ]
    },
    {
      "cell_type": "markdown",
      "metadata": {
        "id": "dutch-invalid"
      },
      "source": [
        "### 6.2 Pembelajaran Data Play Tennis"
      ],
      "id": "dutch-invalid"
    },
    {
      "cell_type": "code",
      "metadata": {
        "colab": {
          "base_uri": "https://localhost:8080/"
        },
        "id": "everyday-planet",
        "outputId": "6bf31711-6a3d-4e6b-ad39-b8b4f0a55ceb"
      },
      "source": [
        "from sklearn.pipeline import make_pipeline\n",
        "from sklearn.preprocessing import StandardScaler\n",
        "from sklearn.svm import SVC\n",
        "clf = make_pipeline(StandardScaler(), SVC(gamma='auto'))\n",
        "clf.fit(A_train, B_train)"
      ],
      "id": "everyday-planet",
      "execution_count": 30,
      "outputs": [
        {
          "output_type": "execute_result",
          "data": {
            "text/plain": [
              "Pipeline(memory=None,\n",
              "         steps=[('standardscaler',\n",
              "                 StandardScaler(copy=True, with_mean=True, with_std=True)),\n",
              "                ('svc',\n",
              "                 SVC(C=1.0, break_ties=False, cache_size=200, class_weight=None,\n",
              "                     coef0=0.0, decision_function_shape='ovr', degree=3,\n",
              "                     gamma='auto', kernel='rbf', max_iter=-1, probability=False,\n",
              "                     random_state=None, shrinking=True, tol=0.001,\n",
              "                     verbose=False))],\n",
              "         verbose=False)"
            ]
          },
          "metadata": {
            "tags": []
          },
          "execution_count": 30
        }
      ]
    },
    {
      "cell_type": "code",
      "metadata": {
        "colab": {
          "base_uri": "https://localhost:8080/"
        },
        "id": "documented-parade",
        "outputId": "98ddb471-d68b-4442-bb17-2289e8360fc7"
      },
      "source": [
        "from sklearn.metrics import accuracy_score, f1_score\n",
        "predictions = clf.predict(A_test)\n",
        "print(\"F1 Score (binary): \" + str(f1_score(B_test, predictions)))\n",
        "print(\"Accuracy: \" + str(accuracy_score(B_test, predictions)))"
      ],
      "id": "documented-parade",
      "execution_count": 31,
      "outputs": [
        {
          "output_type": "stream",
          "text": [
            "F1 Score (binary): 0.8\n",
            "Accuracy: 0.6666666666666666\n"
          ],
          "name": "stdout"
        }
      ]
    },
    {
      "cell_type": "code",
      "metadata": {
        "id": "cutting-sigma"
      },
      "source": [
        ""
      ],
      "id": "cutting-sigma",
      "execution_count": 31,
      "outputs": []
    }
  ]
}