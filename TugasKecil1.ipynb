{
 "cells": [
  {
   "cell_type": "markdown",
   "id": "freelance-gateway",
   "metadata": {},
   "source": [
    "# Membaca dataset\n",
    "## 1. Load Dataset breast cancer\n",
    "Melakukan load data reast cancer dan membagi data menjadi 80% data training dan 20% data testing.\n",
    "Dalam dataset ini, tidak perlu dilakukan labeling data dikarenakan data sudah berasal dari library sklearn dan dapat langsung digunakan"
   ]
  },
  {
   "cell_type": "code",
   "execution_count": 33,
   "id": "objective-warren",
   "metadata": {},
   "outputs": [],
   "source": [
    "from sklearn.datasets import load_breast_cancer\n",
    "from sklearn.model_selection import train_test_split\n",
    "from sklearn.feature_extraction import DictVectorizer\n",
    "\n",
    "#Load data cancer\n",
    "data_cancer = load_breast_cancer()\n",
    "\n",
    "#Splitting cancer data to 80% train and 20% test\n",
    "X = data_cancer.data\n",
    "Y = data_cancer.target\n",
    "X_train, X_test, Y_train, Y_test = train_test_split(X, Y, test_size=0.2, train_size=0.8)"
   ]
  },
  {
   "cell_type": "markdown",
   "id": "identical-thermal",
   "metadata": {},
   "source": [
    "## 2. Load Dataset Play Tennis dan Mengolah Data\n",
    "Dikarenakan data berupa csv, maka data akan di load menggunakan library pandas. Data juga harus dilakukan labeling terlebih dahulu untuk data yang kategorikal.\n",
    "### 2.1 Load dataset ke pandas\n",
    "Melakukan load dataset play tennis menggunakan pandas"
   ]
  },
  {
   "cell_type": "code",
   "execution_count": 44,
   "id": "stone-involvement",
   "metadata": {},
   "outputs": [
    {
     "name": "stdout",
     "output_type": "stream",
     "text": [
      "    day   outlook  temp humidity    wind play\n",
      "0    D1     Sunny   Hot     High    Weak   No\n",
      "1    D2     Sunny   Hot     High  Strong   No\n",
      "2    D3  Overcast   Hot     High    Weak  Yes\n",
      "3    D4      Rain  Mild     High    Weak  Yes\n",
      "4    D5      Rain  Cool   Normal    Weak  Yes\n",
      "5    D6      Rain  Cool   Normal  Strong   No\n",
      "6    D7  Overcast  Cool   Normal  Strong  Yes\n",
      "7    D8     Sunny  Mild     High    Weak   No\n",
      "8    D9     Sunny  Cool   Normal    Weak  Yes\n",
      "9   D10      Rain  Mild   Normal    Weak  Yes\n",
      "10  D11     Sunny  Mild   Normal  Strong  Yes\n",
      "11  D12  Overcast  Mild     High  Strong  Yes\n",
      "12  D13  Overcast   Hot   Normal    Weak  Yes\n",
      "13  D14      Rain  Mild     High  Strong   No\n"
     ]
    }
   ],
   "source": [
    "import pandas as pd\n",
    "tennis_file = \"play_tennis.csv\"\n",
    "data_tennis = pd.read_csv(tennis_file)\n",
    "print(data_tennis)"
   ]
  },
  {
   "cell_type": "markdown",
   "id": "executive-airfare",
   "metadata": {},
   "source": [
    "### 2.2 Melakukan Labeling data kategorikal\n",
    "Sebelumnya, data 'day' perlu dihilangkan terlebih dahulu dikarenakan data 'day' merupakan sebuah data \"unique identifier\".\n",
    "Setelah itu, data akan dilakukan labelling dengan label sebagai berikut: <br>\n",
    "<b>Outlook: </b><br>\n",
    "overcast = 0<br>\n",
    "rain = 1<br>\n",
    "sunny = 2<br>\n",
    "<b>Temp: </b><br>\n",
    "cool = 0<br>\n",
    "hot = 1<br>\n",
    "mild = 2<br>\n",
    "<b>Humidity: </b><br>\n",
    "High = 0<br>\n",
    "Normal = 1<br>\n",
    "<b>Wind: </b><br>\n",
    "strong = 0<br>\n",
    "weak = 1<br>\n",
    "<b>Play: </b><br>\n",
    "no = 0<br>\n",
    "yes = 1<br>"
   ]
  },
  {
   "cell_type": "code",
   "execution_count": 47,
   "id": "simple-offset",
   "metadata": {},
   "outputs": [
    {
     "name": "stdout",
     "output_type": "stream",
     "text": [
      "    outlook  temp  humidity  wind  play\n",
      "0         2     1         0     1     0\n",
      "1         2     1         0     0     0\n",
      "2         0     1         0     1     1\n",
      "3         1     2         0     1     1\n",
      "4         1     0         1     1     1\n",
      "5         1     0         1     0     0\n",
      "6         0     0         1     0     1\n",
      "7         2     2         0     1     0\n",
      "8         2     0         1     1     1\n",
      "9         1     2         1     1     1\n",
      "10        2     2         1     0     1\n",
      "11        0     2         0     0     1\n",
      "12        0     1         1     1     1\n",
      "13        1     2         0     0     0\n"
     ]
    }
   ],
   "source": [
    "from sklearn.preprocessing import LabelEncoder\n",
    "from sklearn.preprocessing import OneHotEncoder\n",
    "\n",
    "tennis_file = \"play_tennis.csv\"\n",
    "data_tennis = pd.read_csv(tennis_file)\n",
    "\n",
    "#remove day\n",
    "data_tennis = data_tennis.drop(columns=['day'])\n",
    "\n",
    "#change column value to category\n",
    "data_tennis['outlook'] = data_tennis['outlook'].astype('category')\n",
    "data_tennis['temp'] = data_tennis['temp'].astype('category')\n",
    "data_tennis['humidity'] = data_tennis['humidity'].astype('category')\n",
    "data_tennis['wind'] = data_tennis['wind'].astype('category')\n",
    "data_tennis['play'] = data_tennis['play'].astype('category')\n",
    "\n",
    "#encode with label\n",
    "encoder = LabelEncoder()\n",
    "data_tennis['outlook'] = encoder.fit_transform(data_tennis.outlook)\n",
    "data_tennis['temp'] = encoder.fit_transform(data_tennis.temp)\n",
    "data_tennis['humidity'] = encoder.fit_transform(data_tennis.humidity)\n",
    "data_tennis['wind'] = encoder.fit_transform(data_tennis.wind)\n",
    "data_tennis['play'] = encoder.fit_transform(data_tennis.play)\n",
    "\n",
    "print(data_tennis)"
   ]
  },
  {
   "cell_type": "markdown",
   "id": "earned-guarantee",
   "metadata": {},
   "source": [
    "### 2.3 Membagi menjadi data training dan data test"
   ]
  },
  {
   "cell_type": "code",
   "execution_count": 48,
   "id": "compound-circuit",
   "metadata": {},
   "outputs": [],
   "source": [
    "from sklearn.model_selection import train_test_split\n",
    "A = data_tennis.drop(['play'], axis=1)\n",
    "B = data_tennis['play']\n",
    "A_train, A_test, B_train, B_test = train_test_split(A, B, test_size=0.2)"
   ]
  },
  {
   "cell_type": "markdown",
   "id": "controlled-bernard",
   "metadata": {},
   "source": [
    "# Pembelajaran\n",
    "## 1. Decision Tree Classifier\n",
    "Berikut adalah pembelajaran data breast cancer dengan menggunakan Decision Tree Classifier:"
   ]
  },
  {
   "cell_type": "code",
   "execution_count": 5,
   "id": "listed-alignment",
   "metadata": {},
   "outputs": [
    {
     "name": "stdout",
     "output_type": "stream",
     "text": [
      "|--- feature_22 <= 105.15\n",
      "|   |--- feature_27 <= 0.16\n",
      "|   |   |--- feature_12 <= 6.60\n",
      "|   |   |   |--- feature_23 <= 754.10\n",
      "|   |   |   |   |--- feature_12 <= 4.12\n",
      "|   |   |   |   |   |--- class: 1\n",
      "|   |   |   |   |--- feature_12 >  4.12\n",
      "|   |   |   |   |   |--- feature_1 <= 19.77\n",
      "|   |   |   |   |   |   |--- class: 0\n",
      "|   |   |   |   |   |--- feature_1 >  19.77\n",
      "|   |   |   |   |   |   |--- class: 1\n",
      "|   |   |   |--- feature_23 >  754.10\n",
      "|   |   |   |   |--- feature_27 <= 0.11\n",
      "|   |   |   |   |   |--- class: 1\n",
      "|   |   |   |   |--- feature_27 >  0.11\n",
      "|   |   |   |   |   |--- class: 0\n",
      "|   |   |--- feature_12 >  6.60\n",
      "|   |   |   |--- class: 0\n",
      "|   |--- feature_27 >  0.16\n",
      "|   |   |--- feature_21 <= 23.47\n",
      "|   |   |   |--- class: 1\n",
      "|   |   |--- feature_21 >  23.47\n",
      "|   |   |   |--- class: 0\n",
      "|--- feature_22 >  105.15\n",
      "|   |--- feature_22 <= 117.45\n",
      "|   |   |--- feature_24 <= 0.14\n",
      "|   |   |   |--- feature_21 <= 27.65\n",
      "|   |   |   |   |--- feature_1 <= 22.72\n",
      "|   |   |   |   |   |--- class: 1\n",
      "|   |   |   |   |--- feature_1 >  22.72\n",
      "|   |   |   |   |   |--- class: 0\n",
      "|   |   |   |--- feature_21 >  27.65\n",
      "|   |   |   |   |--- feature_19 <= 0.00\n",
      "|   |   |   |   |   |--- class: 0\n",
      "|   |   |   |   |--- feature_19 >  0.00\n",
      "|   |   |   |   |   |--- class: 1\n",
      "|   |   |--- feature_24 >  0.14\n",
      "|   |   |   |--- feature_28 <= 0.26\n",
      "|   |   |   |   |--- class: 1\n",
      "|   |   |   |--- feature_28 >  0.26\n",
      "|   |   |   |   |--- class: 0\n",
      "|   |--- feature_22 >  117.45\n",
      "|   |   |--- feature_8 <= 0.13\n",
      "|   |   |   |--- class: 1\n",
      "|   |   |--- feature_8 >  0.13\n",
      "|   |   |   |--- class: 0\n",
      "\n"
     ]
    }
   ],
   "source": [
    "from sklearn import tree\n",
    "from sklearn.tree import export_text\n",
    "clf = tree.DecisionTreeClassifier()\n",
    "clf = clf.fit(X_train, Y_train)\n",
    "r = export_text(clf)\n",
    "print(r)"
   ]
  },
  {
   "cell_type": "code",
   "execution_count": null,
   "id": "simple-humor",
   "metadata": {},
   "outputs": [],
   "source": [
    "from sklearn import tree\n",
    "from sklearn.tree import export_text\n",
    "clf = tree.DecisionTreeClassifier()\n",
    "clf = clf.fit(X_train, Y_train)\n",
    "r = export_text(clf)\n",
    "print(r)"
   ]
  },
  {
   "cell_type": "markdown",
   "id": "likely-cholesterol",
   "metadata": {},
   "source": [
    "## 2. Id3Estimator"
   ]
  },
  {
   "cell_type": "code",
   "execution_count": 14,
   "id": "ordered-smith",
   "metadata": {},
   "outputs": [],
   "source": [
    "import six\n",
    "import sys\n",
    "sys.modules['sklearn.externals.six'] = six\n",
    "from id3 import Id3Estimator\n",
    "from id3 import export_graphviz\n",
    "\n",
    "estimator = Id3Estimator()\n",
    "estimator = estimator.fit(X_train, Y_train)\n",
    "# r = export_text(estimator, feature_names=data_cancer['feature_names'])"
   ]
  },
  {
   "cell_type": "markdown",
   "id": "posted-paraguay",
   "metadata": {},
   "source": [
    "## 3. Kmeans"
   ]
  },
  {
   "cell_type": "code",
   "execution_count": 16,
   "id": "welcome-ensemble",
   "metadata": {},
   "outputs": [],
   "source": [
    "from sklearn.cluster import KMeans\n",
    "kmeans = KMeans().fit(X_train)"
   ]
  },
  {
   "cell_type": "markdown",
   "id": "regular-metallic",
   "metadata": {},
   "source": [
    "## 4. Logistic Regression"
   ]
  },
  {
   "cell_type": "code",
   "execution_count": 18,
   "id": "dental-freedom",
   "metadata": {},
   "outputs": [
    {
     "name": "stderr",
     "output_type": "stream",
     "text": [
      "c:\\users\\willsen\\appdata\\local\\programs\\python\\python39\\lib\\site-packages\\sklearn\\linear_model\\_logistic.py:763: ConvergenceWarning: lbfgs failed to converge (status=1):\n",
      "STOP: TOTAL NO. of ITERATIONS REACHED LIMIT.\n",
      "\n",
      "Increase the number of iterations (max_iter) or scale the data as shown in:\n",
      "    https://scikit-learn.org/stable/modules/preprocessing.html\n",
      "Please also refer to the documentation for alternative solver options:\n",
      "    https://scikit-learn.org/stable/modules/linear_model.html#logistic-regression\n",
      "  n_iter_i = _check_optimize_result(\n"
     ]
    }
   ],
   "source": [
    "from sklearn.linear_model import LogisticRegression\n",
    "# clf = LogisticRegression(random_state=0).fit(X_train, Y_train)"
   ]
  },
  {
   "cell_type": "markdown",
   "id": "legendary-shaft",
   "metadata": {},
   "source": [
    "## 5. Neural Network"
   ]
  },
  {
   "cell_type": "code",
   "execution_count": 19,
   "id": "universal-passage",
   "metadata": {},
   "outputs": [],
   "source": [
    "from sklearn.neural_network import MLPClassifier\n",
    "clf = MLPClassifier(random_state=1, max_iter=300).fit(X_train, Y_train)"
   ]
  },
  {
   "cell_type": "markdown",
   "id": "killing-guest",
   "metadata": {},
   "source": [
    "## 6. SVM"
   ]
  },
  {
   "cell_type": "code",
   "execution_count": 20,
   "id": "proprietary-palmer",
   "metadata": {},
   "outputs": [
    {
     "data": {
      "text/plain": [
       "Pipeline(steps=[('standardscaler', StandardScaler()),\n",
       "                ('svc', SVC(gamma='auto'))])"
      ]
     },
     "execution_count": 20,
     "metadata": {},
     "output_type": "execute_result"
    }
   ],
   "source": [
    "from sklearn.pipeline import make_pipeline\n",
    "from sklearn.preprocessing import StandardScaler\n",
    "from sklearn.svm import SVC\n",
    "clf = make_pipeline(StandardScaler(), SVC(gamma='auto'))\n",
    "clf.fit(X_train, Y_train)"
   ]
  },
  {
   "cell_type": "code",
   "execution_count": null,
   "id": "tutorial-acceptance",
   "metadata": {},
   "outputs": [],
   "source": []
  }
 ],
 "metadata": {
  "kernelspec": {
   "display_name": "Python 3",
   "language": "python",
   "name": "python3"
  },
  "language_info": {
   "codemirror_mode": {
    "name": "ipython",
    "version": 3
   },
   "file_extension": ".py",
   "mimetype": "text/x-python",
   "name": "python",
   "nbconvert_exporter": "python",
   "pygments_lexer": "ipython3",
   "version": "3.9.1"
  }
 },
 "nbformat": 4,
 "nbformat_minor": 5
}
